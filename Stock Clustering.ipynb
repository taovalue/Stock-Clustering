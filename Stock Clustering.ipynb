{
 "cells": [
  {
   "cell_type": "markdown",
   "metadata": {},
   "source": [
    "## Summary\n",
    "This project performs clustering analysis using a few factors, then use the clustersfor \"classification neutral\" stock selction. We will compare this neutrality strategy to a more traditional sector neutral strategy."
   ]
  },
  {
   "cell_type": "markdown",
   "metadata": {},
   "source": [
    "### 1. Import package & variables setup"
   ]
  },
  {
   "cell_type": "code",
   "execution_count": 286,
   "metadata": {},
   "outputs": [],
   "source": [
    "import pandas as pd\n",
    "import numpy as np\n",
    "from os import path\n",
    "import os\n",
    "\n",
    "# import KMeans\n",
    "from sklearn.cluster import KMeans\n",
    "\n",
    "# data viz packages\n",
    "import matplotlib.pyplot as plt\n",
    "import plotly.graph_objects as plty\n",
    "from plotly.subplots import make_subplots"
   ]
  },
  {
   "cell_type": "code",
   "execution_count": 116,
   "metadata": {},
   "outputs": [],
   "source": [
    "clr1 = [\"#00ab4e\",\"#58595b\",\"#939598\",\"#000000\",\"#FFFFFF\"]\n",
    "clr2 = [\"#009697\",\"#8dc63f\",\"#f7941d\",\"#ee2f53\",\"#00b5f1\",\"#96157c\",\"#00ab4e\",\"#58595b\"]\n",
    "\n",
    "sc_path = r'C:\\Users\\patrick.fang\\OneDrive - IHS Markit\\ResearchSignals\\Projects\\20200213_StockClustering'\n",
    "file1 = 'Factor_data_USLC_2019.txt'\n",
    "file2 = 'Factor_data_USTC_2019.txt'\n"
   ]
  },
  {
   "cell_type": "markdown",
   "metadata": {},
   "source": [
    "### 2. Load data"
   ]
  },
  {
   "cell_type": "code",
   "execution_count": 3,
   "metadata": {
    "scrolled": true
   },
   "outputs": [
    {
     "data": {
      "text/html": [
       "<div>\n",
       "<style scoped>\n",
       "    .dataframe tbody tr th:only-of-type {\n",
       "        vertical-align: middle;\n",
       "    }\n",
       "\n",
       "    .dataframe tbody tr th {\n",
       "        vertical-align: top;\n",
       "    }\n",
       "\n",
       "    .dataframe thead th {\n",
       "        text-align: right;\n",
       "    }\n",
       "</style>\n",
       "<table border=\"1\" class=\"dataframe\">\n",
       "  <thead>\n",
       "    <tr style=\"text-align: right;\">\n",
       "      <th></th>\n",
       "      <th>Date</th>\n",
       "      <th>FactorId</th>\n",
       "      <th>SecurityId</th>\n",
       "      <th>Rank</th>\n",
       "      <th>RawRatio</th>\n",
       "    </tr>\n",
       "  </thead>\n",
       "  <tbody>\n",
       "    <tr>\n",
       "      <th>0</th>\n",
       "      <td>2019-01-31 00:00:00</td>\n",
       "      <td>29</td>\n",
       "      <td>02376R10</td>\n",
       "      <td>9255</td>\n",
       "      <td>-0.01026</td>\n",
       "    </tr>\n",
       "    <tr>\n",
       "      <th>1</th>\n",
       "      <td>2019-01-31 00:00:00</td>\n",
       "      <td>29</td>\n",
       "      <td>02393410</td>\n",
       "      <td>2107</td>\n",
       "      <td>1.07825</td>\n",
       "    </tr>\n",
       "    <tr>\n",
       "      <th>2</th>\n",
       "      <td>2019-01-31 00:00:00</td>\n",
       "      <td>29</td>\n",
       "      <td>03042010</td>\n",
       "      <td>6289</td>\n",
       "      <td>0.33917</td>\n",
       "    </tr>\n",
       "    <tr>\n",
       "      <th>3</th>\n",
       "      <td>2019-01-31 00:00:00</td>\n",
       "      <td>29</td>\n",
       "      <td>03673L10</td>\n",
       "      <td>6409</td>\n",
       "      <td>0.32404</td>\n",
       "    </tr>\n",
       "    <tr>\n",
       "      <th>4</th>\n",
       "      <td>2019-01-31 00:00:00</td>\n",
       "      <td>29</td>\n",
       "      <td>04247X10</td>\n",
       "      <td>8366</td>\n",
       "      <td>0.09735</td>\n",
       "    </tr>\n",
       "  </tbody>\n",
       "</table>\n",
       "</div>"
      ],
      "text/plain": [
       "                  Date  FactorId SecurityId  Rank  RawRatio\n",
       "0  2019-01-31 00:00:00        29   02376R10  9255  -0.01026\n",
       "1  2019-01-31 00:00:00        29   02393410  2107   1.07825\n",
       "2  2019-01-31 00:00:00        29   03042010  6289   0.33917\n",
       "3  2019-01-31 00:00:00        29   03673L10  6409   0.32404\n",
       "4  2019-01-31 00:00:00        29   04247X10  8366   0.09735"
      ]
     },
     "execution_count": 3,
     "metadata": {},
     "output_type": "execute_result"
    }
   ],
   "source": [
    "sc_data = pd.read_csv(path.join(sc_path,file1), sep='\\t')\n",
    "sc_data.head()"
   ]
  },
  {
   "cell_type": "markdown",
   "metadata": {},
   "source": [
    "Factor & ID mapping\n",
    "\n",
    "|Factor|Factor ID|Factor Name|\n",
    "|------|---------|-----------|\n",
    "|ROIC|249|Return on Invested Capital|\n",
    "|FCFROI|146|Free Cash Flow Return on Invested Capital|\n",
    "|EBITDAP|106|TTM EV/EBITDA|\n",
    "|TTMSP|304|TTM Price to Sale|\n",
    "|ChgShare|73|Percent Change in Shares Outstanding|\n",
    "|BP|29|Book-to-Market|\n"
   ]
  },
  {
   "cell_type": "code",
   "execution_count": 4,
   "metadata": {},
   "outputs": [
    {
     "data": {
      "text/plain": [
       "Date                 FactorId\n",
       "2019-01-31 00:00:00  29          6208.5\n",
       "                     73          1456.0\n",
       "                     106         3985.0\n",
       "                     146         2638.0\n",
       "                     249         2763.0\n",
       "                                  ...  \n",
       "2020-02-12 00:00:00  73          2387.0\n",
       "                     106         4386.0\n",
       "                     146         2596.5\n",
       "                     249         2693.0\n",
       "                     304         5391.5\n",
       "Name: Rank, Length: 84, dtype: float64"
      ]
     },
     "execution_count": 4,
     "metadata": {},
     "output_type": "execute_result"
    }
   ],
   "source": [
    "# test = sc_data.loc[(sc_data.Date == '2019-01-31 00:00:00') & (sc_data.FactorId == 29),]\n",
    "# test.shape\n",
    "\n",
    "sc_data.groupby(['Date','FactorId']).Rank.median()"
   ]
  },
  {
   "cell_type": "code",
   "execution_count": 149,
   "metadata": {
    "scrolled": true
   },
   "outputs": [
    {
     "data": {
      "text/html": [
       "<div>\n",
       "<style scoped>\n",
       "    .dataframe tbody tr th:only-of-type {\n",
       "        vertical-align: middle;\n",
       "    }\n",
       "\n",
       "    .dataframe tbody tr th {\n",
       "        vertical-align: top;\n",
       "    }\n",
       "\n",
       "    .dataframe thead th {\n",
       "        text-align: right;\n",
       "    }\n",
       "</style>\n",
       "<table border=\"1\" class=\"dataframe\">\n",
       "  <thead>\n",
       "    <tr style=\"text-align: right;\">\n",
       "      <th></th>\n",
       "      <th>Date</th>\n",
       "      <th>FactorId</th>\n",
       "      <th>SecurityId</th>\n",
       "      <th>Rank</th>\n",
       "      <th>RawRatio</th>\n",
       "      <th>cs_PRank</th>\n",
       "    </tr>\n",
       "  </thead>\n",
       "  <tbody>\n",
       "    <tr>\n",
       "      <th>3305</th>\n",
       "      <td>2019-01-31 00:00:00</td>\n",
       "      <td>29</td>\n",
       "      <td>HOLX</td>\n",
       "      <td>7470</td>\n",
       "      <td>0.20173</td>\n",
       "      <td>0.696043</td>\n",
       "    </tr>\n",
       "    <tr>\n",
       "      <th>25150</th>\n",
       "      <td>2019-01-31 00:00:00</td>\n",
       "      <td>73</td>\n",
       "      <td>HOLX</td>\n",
       "      <td>790</td>\n",
       "      <td>-1.89100</td>\n",
       "      <td>0.283759</td>\n",
       "    </tr>\n",
       "    <tr>\n",
       "      <th>32902</th>\n",
       "      <td>2019-01-31 00:00:00</td>\n",
       "      <td>106</td>\n",
       "      <td>HOLX</td>\n",
       "      <td>6144</td>\n",
       "      <td>0.01760</td>\n",
       "      <td>0.920981</td>\n",
       "    </tr>\n",
       "    <tr>\n",
       "      <th>40179</th>\n",
       "      <td>2019-01-31 00:00:00</td>\n",
       "      <td>146</td>\n",
       "      <td>HOLX</td>\n",
       "      <td>1352</td>\n",
       "      <td>0.10820</td>\n",
       "      <td>0.271493</td>\n",
       "    </tr>\n",
       "    <tr>\n",
       "      <th>63655</th>\n",
       "      <td>2019-01-31 00:00:00</td>\n",
       "      <td>249</td>\n",
       "      <td>HOLX</td>\n",
       "      <td>6626</td>\n",
       "      <td>-0.05537</td>\n",
       "      <td>0.952839</td>\n",
       "    </tr>\n",
       "    <tr>\n",
       "      <th>90085</th>\n",
       "      <td>2019-01-31 00:00:00</td>\n",
       "      <td>304</td>\n",
       "      <td>HOLX</td>\n",
       "      <td>6229</td>\n",
       "      <td>0.27095</td>\n",
       "      <td>0.673561</td>\n",
       "    </tr>\n",
       "  </tbody>\n",
       "</table>\n",
       "</div>"
      ],
      "text/plain": [
       "                      Date  FactorId SecurityId  Rank  RawRatio  cs_PRank\n",
       "3305   2019-01-31 00:00:00        29       HOLX  7470   0.20173  0.696043\n",
       "25150  2019-01-31 00:00:00        73       HOLX   790  -1.89100  0.283759\n",
       "32902  2019-01-31 00:00:00       106       HOLX  6144   0.01760  0.920981\n",
       "40179  2019-01-31 00:00:00       146       HOLX  1352   0.10820  0.271493\n",
       "63655  2019-01-31 00:00:00       249       HOLX  6626  -0.05537  0.952839\n",
       "90085  2019-01-31 00:00:00       304       HOLX  6229   0.27095  0.673561"
      ]
     },
     "execution_count": 149,
     "metadata": {},
     "output_type": "execute_result"
    }
   ],
   "source": [
    "# Creating crosssectional ranking columns\n",
    "\n",
    "sc_data['cs_PRank'] = sc_data.groupby(['Date','FactorId']).Rank.rank(pct=True)\n",
    "\n",
    "sc_data.sort_values(['Date','SecurityId']).head()\n",
    "sc_data[(sc_data.SecurityId == 'HOLX') & (sc_data.Date == '2019-01-31 00:00:00')]\n",
    "\n",
    "# double check the percentile ranck, look good\n",
    "# sc_data.loc[(sc_data.Date == '2019-01-31 00:00:00') & \n",
    "#             (sc_data.FactorId == 29) & \n",
    "#             (sc_data.prank < 0.05),].sort_values(['prank'])\n",
    "\n"
   ]
  },
  {
   "cell_type": "code",
   "execution_count": 6,
   "metadata": {},
   "outputs": [
    {
     "data": {
      "text/plain": [
       "(15729,)"
      ]
     },
     "execution_count": 6,
     "metadata": {},
     "output_type": "execute_result"
    }
   ],
   "source": [
    "test = sc_data[sc_data.FactorId == 29].RawRatio\n",
    "test.shape"
   ]
  },
  {
   "cell_type": "markdown",
   "metadata": {},
   "source": [
    "### 3. Examine data"
   ]
  },
  {
   "cell_type": "code",
   "execution_count": 480,
   "metadata": {},
   "outputs": [
    {
     "data": {
      "text/html": [
       "<div>\n",
       "<style scoped>\n",
       "    .dataframe tbody tr th:only-of-type {\n",
       "        vertical-align: middle;\n",
       "    }\n",
       "\n",
       "    .dataframe tbody tr th {\n",
       "        vertical-align: top;\n",
       "    }\n",
       "\n",
       "    .dataframe thead th {\n",
       "        text-align: right;\n",
       "    }\n",
       "</style>\n",
       "<table border=\"1\" class=\"dataframe\">\n",
       "  <thead>\n",
       "    <tr style=\"text-align: right;\">\n",
       "      <th></th>\n",
       "      <th></th>\n",
       "      <th>BP</th>\n",
       "      <th>ChgShare</th>\n",
       "      <th>EBITDAP</th>\n",
       "      <th>FCFROI</th>\n",
       "      <th>ROIC</th>\n",
       "      <th>TTMSP</th>\n",
       "    </tr>\n",
       "    <tr>\n",
       "      <th>Date</th>\n",
       "      <th>SecurityId</th>\n",
       "      <th></th>\n",
       "      <th></th>\n",
       "      <th></th>\n",
       "      <th></th>\n",
       "      <th></th>\n",
       "      <th></th>\n",
       "    </tr>\n",
       "  </thead>\n",
       "  <tbody>\n",
       "    <tr>\n",
       "      <th rowspan=\"5\" valign=\"top\">2019-01-31</th>\n",
       "      <th>00090Q10</th>\n",
       "      <td>0.153777</td>\n",
       "      <td>0.801095</td>\n",
       "      <td>0.040872</td>\n",
       "      <td>0.380995</td>\n",
       "      <td>0.742674</td>\n",
       "      <td>0.253597</td>\n",
       "    </tr>\n",
       "    <tr>\n",
       "      <th>00163T10</th>\n",
       "      <td>0.334532</td>\n",
       "      <td>0.958942</td>\n",
       "      <td>0.711172</td>\n",
       "      <td>0.918552</td>\n",
       "      <td>0.687729</td>\n",
       "      <td>0.941547</td>\n",
       "    </tr>\n",
       "    <tr>\n",
       "      <th>00164V10</th>\n",
       "      <td>0.881295</td>\n",
       "      <td>0.028285</td>\n",
       "      <td>0.013624</td>\n",
       "      <td>0.170136</td>\n",
       "      <td>0.195055</td>\n",
       "      <td>0.263489</td>\n",
       "    </tr>\n",
       "    <tr>\n",
       "      <th>00287Y10</th>\n",
       "      <td>0.964928</td>\n",
       "      <td>0.094891</td>\n",
       "      <td>0.542234</td>\n",
       "      <td>0.095928</td>\n",
       "      <td>0.077839</td>\n",
       "      <td>0.680755</td>\n",
       "    </tr>\n",
       "    <tr>\n",
       "      <th>00766T10</th>\n",
       "      <td>0.127698</td>\n",
       "      <td>0.443431</td>\n",
       "      <td>0.349682</td>\n",
       "      <td>0.353846</td>\n",
       "      <td>0.808608</td>\n",
       "      <td>0.018885</td>\n",
       "    </tr>\n",
       "  </tbody>\n",
       "</table>\n",
       "</div>"
      ],
      "text/plain": [
       "                             BP  ChgShare   EBITDAP    FCFROI      ROIC  \\\n",
       "Date       SecurityId                                                     \n",
       "2019-01-31 00090Q10    0.153777  0.801095  0.040872  0.380995  0.742674   \n",
       "           00163T10    0.334532  0.958942  0.711172  0.918552  0.687729   \n",
       "           00164V10    0.881295  0.028285  0.013624  0.170136  0.195055   \n",
       "           00287Y10    0.964928  0.094891  0.542234  0.095928  0.077839   \n",
       "           00766T10    0.127698  0.443431  0.349682  0.353846  0.808608   \n",
       "\n",
       "                          TTMSP  \n",
       "Date       SecurityId            \n",
       "2019-01-31 00090Q10    0.253597  \n",
       "           00163T10    0.941547  \n",
       "           00164V10    0.263489  \n",
       "           00287Y10    0.680755  \n",
       "           00766T10    0.018885  "
      ]
     },
     "execution_count": 480,
     "metadata": {},
     "output_type": "execute_result"
    }
   ],
   "source": [
    "### pivot table the data to have factors as columns and PRank as values\n",
    "a = sc_data.pivot_table(index=[pd.to_datetime(sc_data.Date),'SecurityId'], columns='FactorId', values='cs_PRank', fill_value = 0)\n",
    "\n",
    "type(a)\n",
    "a.columns = ['BP','ChgShare','EBITDAP','FCFROI','ROIC','TTMSP']\n",
    "a.head()"
   ]
  },
  {
   "cell_type": "code",
   "execution_count": 478,
   "metadata": {},
   "outputs": [
    {
     "ename": "SyntaxError",
     "evalue": "can't assign to function call (<ipython-input-478-add386a5ef9f>, line 1)",
     "output_type": "error",
     "traceback": [
      "\u001b[1;36m  File \u001b[1;32m\"<ipython-input-478-add386a5ef9f>\"\u001b[1;36m, line \u001b[1;32m1\u001b[0m\n\u001b[1;33m    a.index.get_level_values(0) = pd.to_datetime(a.index.get_level_values(0))\u001b[0m\n\u001b[1;37m                                                                             ^\u001b[0m\n\u001b[1;31mSyntaxError\u001b[0m\u001b[1;31m:\u001b[0m can't assign to function call\n"
     ]
    }
   ],
   "source": []
  },
  {
   "cell_type": "code",
   "execution_count": 482,
   "metadata": {},
   "outputs": [
    {
     "data": {
      "text/plain": [
       "MultiIndex([('2019-01-31', '00090Q10'),\n",
       "            ('2019-01-31', '00163T10'),\n",
       "            ('2019-01-31', '00164V10'),\n",
       "            ('2019-01-31', '00287Y10'),\n",
       "            ('2019-01-31', '00766T10'),\n",
       "            ('2019-01-31', '00847X10'),\n",
       "            ('2019-01-31', '00912X30'),\n",
       "            ('2019-01-31', '01527110'),\n",
       "            ('2019-01-31', '01858110'),\n",
       "            ('2019-01-31', '01973R10'),\n",
       "            ...\n",
       "            ('2019-01-31',      'YRI'),\n",
       "            ('2019-01-31',      'YUM'),\n",
       "            ('2019-01-31',   'YUMCWI'),\n",
       "            ('2019-01-31',        'Z'),\n",
       "            ('2019-01-31',      'ZAP'),\n",
       "            ('2019-01-31',     'ZAYO'),\n",
       "            ('2019-01-31',     'ZBRA'),\n",
       "            ('2019-01-31',    'ZCVVV'),\n",
       "            ('2019-01-31',     'ZION'),\n",
       "            ('2019-01-31',     'ZMRH')],\n",
       "           names=['Date', 'SecurityId'], length=1112)"
      ]
     },
     "execution_count": 482,
     "metadata": {},
     "output_type": "execute_result"
    }
   ],
   "source": [
    "b = a.loc['2019-01-31']\n",
    "b.index.names\n",
    "b.index"
   ]
  },
  {
   "cell_type": "code",
   "execution_count": 188,
   "metadata": {
    "scrolled": false
   },
   "outputs": [
    {
     "data": {
      "text/plain": [
       "Index(['BP', 'ChgShare', 'EBITDAP', 'FCFROI', 'ROIC', 'TTMSP'], dtype='object')"
      ]
     },
     "execution_count": 188,
     "metadata": {},
     "output_type": "execute_result"
    }
   ],
   "source": [
    "# scatter plot two factors, check both raw ratio & PRank\n",
    "# fig1 = plty.Figure()\n",
    "# fig1.add_trace(plty.Scatter(x=b.EBITDAP.values, \n",
    "#                             y=b.ROIC.values, \n",
    "#                             mode='markers',\n",
    "#                             text=b.index,\n",
    "#                             marker_color=clr1[0]))\n",
    "# fig1.update_layout(\n",
    "#     title = 'Scatterplot of EBITDAP vs. ROIC',\n",
    "#     yaxis_title = 'ROIC Percentile',\n",
    "#     xaxis_title = 'TTM EV/EBITDA Percentile'\n",
    "# )\n",
    "# fig1.show()\n",
    "\n",
    "b.columns"
   ]
  },
  {
   "cell_type": "code",
   "execution_count": 483,
   "metadata": {},
   "outputs": [
    {
     "data": {
      "text/plain": [
       "<matplotlib.collections.PathCollection at 0x29cf8a58160>"
      ]
     },
     "execution_count": 483,
     "metadata": {},
     "output_type": "execute_result"
    },
    {
     "data": {
      "image/png": "[encoded data removed]",
      "text/plain": [
       "<Figure size 432x288 with 1 Axes>"
      ]
     },
     "metadata": {
      "needs_background": "light"
     },
     "output_type": "display_data"
    }
   ],
   "source": [
    "plt.scatter(b.EBITDAP.values, b.FCFROI.values, s=20, c=clr1[0])"
   ]
  },
  {
   "cell_type": "markdown",
   "metadata": {},
   "source": [
    "### 4. K-Means Clustering\n"
   ]
  },
  {
   "cell_type": "code",
   "execution_count": 484,
   "metadata": {},
   "outputs": [
    {
     "data": {
      "text/html": [
       "<div>\n",
       "<style scoped>\n",
       "    .dataframe tbody tr th:only-of-type {\n",
       "        vertical-align: middle;\n",
       "    }\n",
       "\n",
       "    .dataframe tbody tr th {\n",
       "        vertical-align: top;\n",
       "    }\n",
       "\n",
       "    .dataframe thead th {\n",
       "        text-align: right;\n",
       "    }\n",
       "</style>\n",
       "<table border=\"1\" class=\"dataframe\">\n",
       "  <thead>\n",
       "    <tr style=\"text-align: right;\">\n",
       "      <th></th>\n",
       "      <th></th>\n",
       "      <th>EBITDAP</th>\n",
       "      <th>FCFROI</th>\n",
       "    </tr>\n",
       "    <tr>\n",
       "      <th>Date</th>\n",
       "      <th>SecurityId</th>\n",
       "      <th></th>\n",
       "      <th></th>\n",
       "    </tr>\n",
       "  </thead>\n",
       "  <tbody>\n",
       "    <tr>\n",
       "      <th rowspan=\"11\" valign=\"top\">2019-01-31</th>\n",
       "      <th>00090Q10</th>\n",
       "      <td>0.040872</td>\n",
       "      <td>0.380995</td>\n",
       "    </tr>\n",
       "    <tr>\n",
       "      <th>00163T10</th>\n",
       "      <td>0.711172</td>\n",
       "      <td>0.918552</td>\n",
       "    </tr>\n",
       "    <tr>\n",
       "      <th>00164V10</th>\n",
       "      <td>0.013624</td>\n",
       "      <td>0.170136</td>\n",
       "    </tr>\n",
       "    <tr>\n",
       "      <th>00287Y10</th>\n",
       "      <td>0.542234</td>\n",
       "      <td>0.095928</td>\n",
       "    </tr>\n",
       "    <tr>\n",
       "      <th>00766T10</th>\n",
       "      <td>0.349682</td>\n",
       "      <td>0.353846</td>\n",
       "    </tr>\n",
       "    <tr>\n",
       "      <th>...</th>\n",
       "      <td>...</td>\n",
       "      <td>...</td>\n",
       "    </tr>\n",
       "    <tr>\n",
       "      <th>ZAYO</th>\n",
       "      <td>0.195277</td>\n",
       "      <td>0.663348</td>\n",
       "    </tr>\n",
       "    <tr>\n",
       "      <th>ZBRA</th>\n",
       "      <td>0.623978</td>\n",
       "      <td>0.083258</td>\n",
       "    </tr>\n",
       "    <tr>\n",
       "      <th>ZCVVV</th>\n",
       "      <td>0.960945</td>\n",
       "      <td>0.596833</td>\n",
       "    </tr>\n",
       "    <tr>\n",
       "      <th>ZION</th>\n",
       "      <td>0.256131</td>\n",
       "      <td>0.370136</td>\n",
       "    </tr>\n",
       "    <tr>\n",
       "      <th>ZMRH</th>\n",
       "      <td>0.628520</td>\n",
       "      <td>0.508597</td>\n",
       "    </tr>\n",
       "  </tbody>\n",
       "</table>\n",
       "<p>1112 rows × 2 columns</p>\n",
       "</div>"
      ],
      "text/plain": [
       "                        EBITDAP    FCFROI\n",
       "Date       SecurityId                    \n",
       "2019-01-31 00090Q10    0.040872  0.380995\n",
       "           00163T10    0.711172  0.918552\n",
       "           00164V10    0.013624  0.170136\n",
       "           00287Y10    0.542234  0.095928\n",
       "           00766T10    0.349682  0.353846\n",
       "...                         ...       ...\n",
       "           ZAYO        0.195277  0.663348\n",
       "           ZBRA        0.623978  0.083258\n",
       "           ZCVVV       0.960945  0.596833\n",
       "           ZION        0.256131  0.370136\n",
       "           ZMRH        0.628520  0.508597\n",
       "\n",
       "[1112 rows x 2 columns]"
      ]
     },
     "execution_count": 484,
     "metadata": {},
     "output_type": "execute_result"
    }
   ],
   "source": [
    "### test indexing data under multiindex framework\n",
    "\n",
    "# a.index.names\n",
    "\n",
    "#a[[29,73]]\n",
    "\n",
    "a.loc[['2019-01-31'],('EBITDAP','FCFROI')]\n"
   ]
  },
  {
   "cell_type": "code",
   "execution_count": 485,
   "metadata": {
    "scrolled": false
   },
   "outputs": [
    {
     "name": "stdout",
     "output_type": "stream",
     "text": [
      "[[0.8437384  0.12959105]\n",
      " [0.71738858 0.47544391]\n",
      " [0.15989065 0.21290265]\n",
      " [0.11793667 0.82609455]\n",
      " [0.85724563 0.83995515]\n",
      " [0.51876552 0.20771446]\n",
      " [0.2558371  0.52182242]\n",
      " [0.473363   0.79429018]]\n"
     ]
    }
   ],
   "source": [
    "# create data sample in array using 1/31/2019\n",
    "dsamp = a.loc['2019-01-31',('EBITDAP','FCFROI')].values\n",
    "\n",
    "# create kmeans object\n",
    "kmeans = KMeans(n_clusters=8)\n",
    "# fit kmeans object to data\n",
    "kmeans.fit(dsamp)\n",
    "# print location of clusters learned by kmeans object\n",
    "print(kmeans.cluster_centers_)\n",
    "# save new clusters for chart\n",
    "y_km = kmeans.fit_predict(dsamp)"
   ]
  },
  {
   "cell_type": "code",
   "execution_count": 486,
   "metadata": {
    "scrolled": true
   },
   "outputs": [
    {
     "data": {
      "text/plain": [
       "<matplotlib.collections.PathCollection at 0x29cf2e29ef0>"
      ]
     },
     "execution_count": 486,
     "metadata": {},
     "output_type": "execute_result"
    },
    {
     "data": {
      "image/png": "[encoded data removed]",
      "text/plain": [
       "<Figure size 432x288 with 1 Axes>"
      ]
     },
     "metadata": {
      "needs_background": "light"
     },
     "output_type": "display_data"
    }
   ],
   "source": [
    "# Scatter plot the clusters\n",
    "\n",
    "plt.scatter(dsamp[y_km ==0,0], dsamp[y_km == 0,1], s=20, c=clr2[0])\n",
    "plt.scatter(dsamp[y_km ==1,0], dsamp[y_km == 1,1], s=20, c=clr2[1])\n",
    "plt.scatter(dsamp[y_km ==2,0], dsamp[y_km == 2,1], s=20, c=clr2[2])\n",
    "plt.scatter(dsamp[y_km ==3,0], dsamp[y_km == 3,1], s=20, c=clr2[3])\n",
    "plt.scatter(dsamp[y_km ==4,0], dsamp[y_km == 4,1], s=20, c=clr2[4])\n",
    "plt.scatter(dsamp[y_km ==5,0], dsamp[y_km == 5,1], s=20, c=clr2[5])\n",
    "plt.scatter(dsamp[y_km ==6,0], dsamp[y_km == 6,1], s=20, c=clr2[6])\n",
    "plt.scatter(dsamp[y_km ==7,0], dsamp[y_km == 7,1], s=20, c=clr2[7])"
   ]
  },
  {
   "cell_type": "code",
   "execution_count": 327,
   "metadata": {
    "scrolled": true
   },
   "outputs": [],
   "source": [
    "# fig2 = plty.Figure()\n",
    "# fig2.add_trace(plty.Scatter(x=dsamp[y_km ==0,0], y=dsamp[y_km == 0,1], mode='markers',marker_color=clr2[0]))\n",
    "# fig2.add_trace(plty.Scatter(x=dsamp[y_km ==1,0], y=dsamp[y_km == 1,1], mode='markers',marker_color=clr2[1]))\n",
    "# fig2.add_trace(plty.Scatter(x=dsamp[y_km ==2,0], y=dsamp[y_km == 2,1], mode='markers',marker_color=clr2[2]))\n",
    "# fig2.add_trace(plty.Scatter(x=dsamp[y_km ==3,0], y=dsamp[y_km == 3,1], mode='markers',marker_color=clr2[3]))\n",
    "# fig2.add_trace(plty.Scatter(x=dsamp[y_km ==4,0], y=dsamp[y_km == 4,1], mode='markers',marker_color=clr2[4]))\n",
    "# fig2.add_trace(plty.Scatter(x=dsamp[y_km ==5,0], y=dsamp[y_km == 5,1], mode='markers',marker_color=clr2[5]))\n",
    "# fig2.add_trace(plty.Scatter(x=dsamp[y_km ==6,0], y=dsamp[y_km == 6,1], mode='markers',marker_color=clr2[6]))\n",
    "# fig2.add_trace(plty.Scatter(x=dsamp[y_km ==7,0], y=dsamp[y_km == 7,1], mode='markers',marker_color=clr2[7]))\n",
    "# fig2.update_layout(\n",
    "#     title = 'Cluster Plot of EBITDAP vs. FCFROI',\n",
    "#     yaxis_title = 'FCFROI Percentile',\n",
    "#     xaxis_title = 'TTM EV/EBITDA Percentile'\n",
    "# )\n",
    "# fig2.show()"
   ]
  },
  {
   "cell_type": "code",
   "execution_count": 342,
   "metadata": {},
   "outputs": [
    {
     "name": "stdout",
     "output_type": "stream",
     "text": [
      "[[0.79838783 0.13259193]\n",
      " [0.13616255 0.82218528]\n",
      " [0.74816853 0.50371925]\n",
      " [0.14590643 0.215625  ]\n",
      " [0.8978744  0.86220381]\n",
      " [0.48405978 0.24011174]\n",
      " [0.48170455 0.80075671]\n",
      " [0.20944514 0.5309447 ]]\n"
     ]
    }
   ],
   "source": [
    "# create data sample in array using 1/31/2020\n",
    "# cluster still looks similar, which indicates consistency of the pattern\n",
    "dsamp2 = a.loc['2020-01-31',('EBITDAP','FCFROI')].values\n",
    "\n",
    "# create kmeans object\n",
    "kmeans2 = KMeans(n_clusters=8)\n",
    "# fit kmeans object to data\n",
    "kmeans2.fit(dsamp2)\n",
    "# print location of clusters learned by kmeans object\n",
    "print(kmeans2.cluster_centers_)\n",
    "# save new clusters for chart\n",
    "y_km2 = kmeans2.fit_predict(dsamp2)"
   ]
  },
  {
   "cell_type": "code",
   "execution_count": 343,
   "metadata": {},
   "outputs": [],
   "source": [
    "# sc_data.Date.unique()"
   ]
  },
  {
   "cell_type": "code",
   "execution_count": 344,
   "metadata": {
    "scrolled": true
   },
   "outputs": [
    {
     "data": {
      "text/plain": [
       "<matplotlib.collections.PathCollection at 0x29cf88c8d30>"
      ]
     },
     "execution_count": 344,
     "metadata": {},
     "output_type": "execute_result"
    },
    {
     "data": {
      "image/png": "[encoded data removed]",
      "text/plain": [
       "<Figure size 432x288 with 1 Axes>"
      ]
     },
     "metadata": {
      "needs_background": "light"
     },
     "output_type": "display_data"
    }
   ],
   "source": [
    "# Scatter plot the clusters\n",
    "\n",
    "plt.scatter(dsamp2[y_km2 ==0,0], dsamp2[y_km2 == 0,1], s=20, c=clr2[0])\n",
    "plt.scatter(dsamp2[y_km2 ==1,0], dsamp2[y_km2 == 1,1], s=20, c=clr2[1])\n",
    "plt.scatter(dsamp2[y_km2 ==2,0], dsamp2[y_km2 == 2,1], s=20, c=clr2[2])\n",
    "plt.scatter(dsamp2[y_km2 ==3,0], dsamp2[y_km2 == 3,1], s=20, c=clr2[3])\n",
    "plt.scatter(dsamp2[y_km2 ==4,0], dsamp2[y_km2 == 4,1], s=20, c=clr2[4])\n",
    "plt.scatter(dsamp2[y_km2 ==5,0], dsamp2[y_km2 == 5,1], s=20, c=clr2[5])\n",
    "plt.scatter(dsamp2[y_km2 ==6,0], dsamp2[y_km2 == 6,1], s=20, c=clr2[6])\n",
    "plt.scatter(dsamp2[y_km2 ==7,0], dsamp2[y_km2 == 7,1], s=20, c=clr2[7])"
   ]
  },
  {
   "cell_type": "code",
   "execution_count": 487,
   "metadata": {},
   "outputs": [],
   "source": [
    "### check on some individual names to see whether there is any movements\n",
    "# amzn, msft, ge, aapl, tsla\n",
    "aapl = a.loc[a.index.get_level_values(1)=='AAPL',]\n",
    "a.loc[a.index.get_level_values(1)=='AMZN',]\n",
    "a.loc[a.index.get_level_values(1)=='GE',]\n",
    "a.loc[a.index.get_level_values(1)=='CMB',] #JPM\n",
    "a.loc[a.index.get_level_values(1)=='88160R10',] #TSLA\n",
    "a.loc[a.index.get_level_values(1)=='G0624210',] #TEAM\n",
    "a.loc[a.index.get_level_values(1)=='38259P70','BP'] #GOOG\n",
    "\n",
    "seclist = ['AAPL','AMZN','GE','BA','CMB','88160R10','G0624210','38259P70']\n",
    "\n",
    "a_sub = a[a.index.get_level_values(1).isin(seclist)]"
   ]
  },
  {
   "cell_type": "code",
   "execution_count": 488,
   "metadata": {},
   "outputs": [
    {
     "data": {
      "text/html": [
       "<div>\n",
       "<style scoped>\n",
       "    .dataframe tbody tr th:only-of-type {\n",
       "        vertical-align: middle;\n",
       "    }\n",
       "\n",
       "    .dataframe tbody tr th {\n",
       "        vertical-align: top;\n",
       "    }\n",
       "\n",
       "    .dataframe thead th {\n",
       "        text-align: right;\n",
       "    }\n",
       "</style>\n",
       "<table border=\"1\" class=\"dataframe\">\n",
       "  <thead>\n",
       "    <tr style=\"text-align: right;\">\n",
       "      <th></th>\n",
       "      <th></th>\n",
       "      <th>BP</th>\n",
       "      <th>ChgShare</th>\n",
       "      <th>EBITDAP</th>\n",
       "      <th>FCFROI</th>\n",
       "      <th>ROIC</th>\n",
       "      <th>TTMSP</th>\n",
       "    </tr>\n",
       "    <tr>\n",
       "      <th>Date</th>\n",
       "      <th>SecurityId</th>\n",
       "      <th></th>\n",
       "      <th></th>\n",
       "      <th></th>\n",
       "      <th></th>\n",
       "      <th></th>\n",
       "      <th></th>\n",
       "    </tr>\n",
       "  </thead>\n",
       "  <tbody>\n",
       "    <tr>\n",
       "      <th rowspan=\"5\" valign=\"top\">2019-01-31</th>\n",
       "      <th>38259P70</th>\n",
       "      <td>0.666367</td>\n",
       "      <td>0.582117</td>\n",
       "      <td>0.821072</td>\n",
       "      <td>0.189593</td>\n",
       "      <td>0.224817</td>\n",
       "      <td>0.823741</td>\n",
       "    </tr>\n",
       "    <tr>\n",
       "      <th>88160R10</th>\n",
       "      <td>0.868705</td>\n",
       "      <td>0.835766</td>\n",
       "      <td>0.934605</td>\n",
       "      <td>0.941176</td>\n",
       "      <td>0.934066</td>\n",
       "      <td>0.590827</td>\n",
       "    </tr>\n",
       "    <tr>\n",
       "      <th>AAPL</th>\n",
       "      <td>0.780576</td>\n",
       "      <td>0.069343</td>\n",
       "      <td>0.475931</td>\n",
       "      <td>0.079638</td>\n",
       "      <td>0.067766</td>\n",
       "      <td>0.606115</td>\n",
       "    </tr>\n",
       "    <tr>\n",
       "      <th>AMZN</th>\n",
       "      <td>0.916367</td>\n",
       "      <td>0.794708</td>\n",
       "      <td>0.896912</td>\n",
       "      <td>0.146606</td>\n",
       "      <td>0.354396</td>\n",
       "      <td>0.686151</td>\n",
       "    </tr>\n",
       "    <tr>\n",
       "      <th>BA</th>\n",
       "      <td>0.954137</td>\n",
       "      <td>0.126369</td>\n",
       "      <td>0.752952</td>\n",
       "      <td>0.003620</td>\n",
       "      <td>0.005495</td>\n",
       "      <td>0.451439</td>\n",
       "    </tr>\n",
       "    <tr>\n",
       "      <th>...</th>\n",
       "      <th>...</th>\n",
       "      <td>...</td>\n",
       "      <td>...</td>\n",
       "      <td>...</td>\n",
       "      <td>...</td>\n",
       "      <td>...</td>\n",
       "      <td>...</td>\n",
       "    </tr>\n",
       "    <tr>\n",
       "      <th rowspan=\"5\" valign=\"top\">2020-02-12</th>\n",
       "      <th>AMZN</th>\n",
       "      <td>0.895018</td>\n",
       "      <td>0.788256</td>\n",
       "      <td>0.832281</td>\n",
       "      <td>0.076029</td>\n",
       "      <td>0.276268</td>\n",
       "      <td>0.626335</td>\n",
       "    </tr>\n",
       "    <tr>\n",
       "      <th>BA</th>\n",
       "      <td>0.973310</td>\n",
       "      <td>0.382562</td>\n",
       "      <td>0.914337</td>\n",
       "      <td>0.995528</td>\n",
       "      <td>0.876812</td>\n",
       "      <td>0.443950</td>\n",
       "    </tr>\n",
       "    <tr>\n",
       "      <th>CMB</th>\n",
       "      <td>0.284698</td>\n",
       "      <td>0.151246</td>\n",
       "      <td>0.275023</td>\n",
       "      <td>0.953488</td>\n",
       "      <td>0.550725</td>\n",
       "      <td>0.546263</td>\n",
       "    </tr>\n",
       "    <tr>\n",
       "      <th>G0624210</th>\n",
       "      <td>0.941281</td>\n",
       "      <td>0.853203</td>\n",
       "      <td>0.926961</td>\n",
       "      <td>0.038462</td>\n",
       "      <td>0.990942</td>\n",
       "      <td>0.983096</td>\n",
       "    </tr>\n",
       "    <tr>\n",
       "      <th>GE</th>\n",
       "      <td>0.597865</td>\n",
       "      <td>0.644128</td>\n",
       "      <td>0.399459</td>\n",
       "      <td>0.768336</td>\n",
       "      <td>0.798007</td>\n",
       "      <td>0.200178</td>\n",
       "    </tr>\n",
       "  </tbody>\n",
       "</table>\n",
       "<p>112 rows × 6 columns</p>\n",
       "</div>"
      ],
      "text/plain": [
       "                             BP  ChgShare   EBITDAP    FCFROI      ROIC  \\\n",
       "Date       SecurityId                                                     \n",
       "2019-01-31 38259P70    0.666367  0.582117  0.821072  0.189593  0.224817   \n",
       "           88160R10    0.868705  0.835766  0.934605  0.941176  0.934066   \n",
       "           AAPL        0.780576  0.069343  0.475931  0.079638  0.067766   \n",
       "           AMZN        0.916367  0.794708  0.896912  0.146606  0.354396   \n",
       "           BA          0.954137  0.126369  0.752952  0.003620  0.005495   \n",
       "...                         ...       ...       ...       ...       ...   \n",
       "2020-02-12 AMZN        0.895018  0.788256  0.832281  0.076029  0.276268   \n",
       "           BA          0.973310  0.382562  0.914337  0.995528  0.876812   \n",
       "           CMB         0.284698  0.151246  0.275023  0.953488  0.550725   \n",
       "           G0624210    0.941281  0.853203  0.926961  0.038462  0.990942   \n",
       "           GE          0.597865  0.644128  0.399459  0.768336  0.798007   \n",
       "\n",
       "                          TTMSP  \n",
       "Date       SecurityId            \n",
       "2019-01-31 38259P70    0.823741  \n",
       "           88160R10    0.590827  \n",
       "           AAPL        0.606115  \n",
       "           AMZN        0.686151  \n",
       "           BA          0.451439  \n",
       "...                         ...  \n",
       "2020-02-12 AMZN        0.626335  \n",
       "           BA          0.443950  \n",
       "           CMB         0.546263  \n",
       "           G0624210    0.983096  \n",
       "           GE          0.200178  \n",
       "\n",
       "[112 rows x 6 columns]"
      ]
     },
     "execution_count": 488,
     "metadata": {},
     "output_type": "execute_result"
    }
   ],
   "source": [
    "# update security name to tickers\n",
    "# a_sub.rename(index={'38259P70':'GOOG','G0624210':'TEAM','88160R10':'TSLA','CMB':'JPM'}, inplace=True)\n",
    "a_sub"
   ]
  },
  {
   "cell_type": "code",
   "execution_count": 489,
   "metadata": {
    "scrolled": false
   },
   "outputs": [
    {
     "data": {
      "text/plain": [
       "array([[0.267004, 0.004874, 0.329415, 1.      ],\n",
       "       [0.275191, 0.194905, 0.496005, 1.      ],\n",
       "       [0.212395, 0.359683, 0.55171 , 1.      ],\n",
       "       [0.153364, 0.497   , 0.557724, 1.      ],\n",
       "       [0.122312, 0.633153, 0.530398, 1.      ],\n",
       "       [0.288921, 0.758394, 0.428426, 1.      ],\n",
       "       [0.626579, 0.854645, 0.223353, 1.      ],\n",
       "       [0.993248, 0.906157, 0.143936, 1.      ]])"
      ]
     },
     "execution_count": 489,
     "metadata": {},
     "output_type": "execute_result"
    }
   ],
   "source": [
    "a_sub.loc[a_sub.index.get_level_values(1)=='BA',('EBITDAP','FCFROI')]\n",
    "\n",
    "cmap = plt.get_cmap('viridis')\n",
    "cmap(np.linspace(0, 1, len(names)))\n"
   ]
  },
  {
   "cell_type": "markdown",
   "metadata": {},
   "source": [
    "Here we plot some individual names and see where they fall. For EBITDAP vs. ROIC, Interesting to see GE, BA,TSLA & TEAM & at the same right top corner (expense & not profitable)...\n",
    "\n",
    "Now switching to EBITDA vs. FCFROI, many interesting movements:\n",
    "GE from top right to top left (expensive to cheap)\n",
    "TSLA from top right to middle right (low FCFROI to moderate FCFROI)\n",
    "AAPL horizontally move from left to right (great FCFROI but more expensive)\n",
    "BA jump from botton left to top left (737Max impact of its profitability)\n"
   ]
  },
  {
   "cell_type": "code",
   "execution_count": 347,
   "metadata": {
    "scrolled": true
   },
   "outputs": [
    {
     "data": {
      "image/png": "[encoded data removed]",
      "text/plain": [
       "<Figure size 432x288 with 1 Axes>"
      ]
     },
     "metadata": {
      "needs_background": "light"
     },
     "output_type": "display_data"
    }
   ],
   "source": [
    "\n",
    "names = list(a_sub.index.get_level_values(1).unique())\n",
    "\n",
    "\n",
    "for i, (name, color) in enumerate(zip(names, colors), 1):\n",
    "    # print(a_sub.loc[a_sub.index.get_level_values(1)==name,'EBITDAP'].values)\n",
    "    plt.scatter(a_sub.loc[a_sub.index.get_level_values(1)==name,'EBITDAP'].values,\n",
    "                a_sub.loc[a_sub.index.get_level_values(1)==name,'FCFROI'].values, \n",
    "                label=name\n",
    "                # ,c=clr2\n",
    "               )\n",
    "plt.legend()\n",
    "plt.show()\n",
    "\n"
   ]
  },
  {
   "cell_type": "markdown",
   "metadata": {},
   "source": [
    "### 5. Hierachical Clustering"
   ]
  },
  {
   "cell_type": "code",
   "execution_count": 112,
   "metadata": {},
   "outputs": [],
   "source": [
    "# import hierarchical clustering libraries\n",
    "import scipy.cluster.hierarchy as sch\n",
    "from sklearn.cluster import AgglomerativeClustering"
   ]
  },
  {
   "cell_type": "code",
   "execution_count": 322,
   "metadata": {},
   "outputs": [
    {
     "data": {
      "image/png": "[encoded data removed]",
      "text/plain": [
       "<Figure size 432x288 with 1 Axes>"
      ]
     },
     "metadata": {
      "needs_background": "light"
     },
     "output_type": "display_data"
    }
   ],
   "source": [
    "# create dendrogram\n",
    "dendrogram = sch.dendrogram(sch.linkage(dsamp, method='ward'))\n",
    "# create clusters\n",
    "hc = AgglomerativeClustering(n_clusters=4, affinity = 'euclidean', linkage = 'ward')\n",
    "# save clusters for chart\n",
    "y_hc = hc.fit_predict(dsamp)"
   ]
  },
  {
   "cell_type": "markdown",
   "metadata": {},
   "source": [
    "### 6. Create Monthly Cluster Groupings & map it back to original dataset"
   ]
  },
  {
   "cell_type": "code",
   "execution_count": 396,
   "metadata": {
    "scrolled": true
   },
   "outputs": [
    {
     "data": {
      "text/plain": [
       "15729"
      ]
     },
     "execution_count": 396,
     "metadata": {},
     "output_type": "execute_result"
    }
   ],
   "source": [
    "# pd.DataFrame({'Cluster':y_km}, index = a.loc[['2019-01-31 00:00:00']].index)\n",
    "a.shape[0]"
   ]
  },
  {
   "cell_type": "code",
   "execution_count": 397,
   "metadata": {},
   "outputs": [
    {
     "data": {
      "text/plain": [
       "(15729,)"
      ]
     },
     "execution_count": 397,
     "metadata": {},
     "output_type": "execute_result"
    }
   ],
   "source": [
    "# create an empty np array to store the cuslter prediction\n",
    "c_pred = np.empty(0)\n",
    "\n",
    "for i,d in enumerate(a.index.get_level_values(0).unique()):\n",
    "    datai =  a.loc[d,('EBITDAP','FCFROI')].values\n",
    "    \n",
    "    # create kmeans object\n",
    "    kmeans = KMeans(n_clusters=8)\n",
    "    # fit kmeans object to data\n",
    "    kmeans.fit(datai)\n",
    "    # print location of clusters learned by kmeans object\n",
    "    # print(kmeans.cluster_centers_)\n",
    "    # save new clusters for chart\n",
    "    c_pred = np.append(c_pred,kmeans.fit_predict(datai))\n",
    "    \n",
    "    # print (datai)\n",
    "    # print (i)\n",
    "\n",
    "c_pred.shape\n",
    "    "
   ]
  },
  {
   "cell_type": "code",
   "execution_count": 398,
   "metadata": {},
   "outputs": [],
   "source": [
    "\n",
    "\n",
    "# # create data sample in array using 1/31/2019\n",
    "# dsamp = a.loc['2019-01-31 00:00:00',('EBITDAP','FCFROI')].values\n",
    "\n",
    "# # create kmeans object\n",
    "# kmeans = KMeans(n_clusters=8)\n",
    "# # fit kmeans object to data\n",
    "# kmeans.fit(dsamp)\n",
    "# # print location of clusters learned by kmeans object\n",
    "# print(kmeans.cluster_centers_)\n",
    "# # save new clusters for chart\n",
    "# y_km = kmeans.fit_predict(dsamp)"
   ]
  },
  {
   "cell_type": "code",
   "execution_count": 490,
   "metadata": {
    "scrolled": true
   },
   "outputs": [
    {
     "data": {
      "text/html": [
       "<div>\n",
       "<style scoped>\n",
       "    .dataframe tbody tr th:only-of-type {\n",
       "        vertical-align: middle;\n",
       "    }\n",
       "\n",
       "    .dataframe tbody tr th {\n",
       "        vertical-align: top;\n",
       "    }\n",
       "\n",
       "    .dataframe thead th {\n",
       "        text-align: right;\n",
       "    }\n",
       "</style>\n",
       "<table border=\"1\" class=\"dataframe\">\n",
       "  <thead>\n",
       "    <tr style=\"text-align: right;\">\n",
       "      <th></th>\n",
       "      <th></th>\n",
       "      <th>BP</th>\n",
       "      <th>ChgShare</th>\n",
       "      <th>EBITDAP</th>\n",
       "      <th>FCFROI</th>\n",
       "      <th>ROIC</th>\n",
       "      <th>TTMSP</th>\n",
       "      <th>Cluster</th>\n",
       "    </tr>\n",
       "    <tr>\n",
       "      <th>Date</th>\n",
       "      <th>SecurityId</th>\n",
       "      <th></th>\n",
       "      <th></th>\n",
       "      <th></th>\n",
       "      <th></th>\n",
       "      <th></th>\n",
       "      <th></th>\n",
       "      <th></th>\n",
       "    </tr>\n",
       "  </thead>\n",
       "  <tbody>\n",
       "    <tr>\n",
       "      <th rowspan=\"5\" valign=\"top\">2019-01-31</th>\n",
       "      <th>00090Q10</th>\n",
       "      <td>0.153777</td>\n",
       "      <td>0.801095</td>\n",
       "      <td>0.040872</td>\n",
       "      <td>0.380995</td>\n",
       "      <td>0.742674</td>\n",
       "      <td>0.253597</td>\n",
       "      <td>7.0</td>\n",
       "    </tr>\n",
       "    <tr>\n",
       "      <th>00163T10</th>\n",
       "      <td>0.334532</td>\n",
       "      <td>0.958942</td>\n",
       "      <td>0.711172</td>\n",
       "      <td>0.918552</td>\n",
       "      <td>0.687729</td>\n",
       "      <td>0.941547</td>\n",
       "      <td>4.0</td>\n",
       "    </tr>\n",
       "    <tr>\n",
       "      <th>00164V10</th>\n",
       "      <td>0.881295</td>\n",
       "      <td>0.028285</td>\n",
       "      <td>0.013624</td>\n",
       "      <td>0.170136</td>\n",
       "      <td>0.195055</td>\n",
       "      <td>0.263489</td>\n",
       "      <td>7.0</td>\n",
       "    </tr>\n",
       "    <tr>\n",
       "      <th>00287Y10</th>\n",
       "      <td>0.964928</td>\n",
       "      <td>0.094891</td>\n",
       "      <td>0.542234</td>\n",
       "      <td>0.095928</td>\n",
       "      <td>0.077839</td>\n",
       "      <td>0.680755</td>\n",
       "      <td>3.0</td>\n",
       "    </tr>\n",
       "    <tr>\n",
       "      <th>00766T10</th>\n",
       "      <td>0.127698</td>\n",
       "      <td>0.443431</td>\n",
       "      <td>0.349682</td>\n",
       "      <td>0.353846</td>\n",
       "      <td>0.808608</td>\n",
       "      <td>0.018885</td>\n",
       "      <td>0.0</td>\n",
       "    </tr>\n",
       "  </tbody>\n",
       "</table>\n",
       "</div>"
      ],
      "text/plain": [
       "                             BP  ChgShare   EBITDAP    FCFROI      ROIC  \\\n",
       "Date       SecurityId                                                     \n",
       "2019-01-31 00090Q10    0.153777  0.801095  0.040872  0.380995  0.742674   \n",
       "           00163T10    0.334532  0.958942  0.711172  0.918552  0.687729   \n",
       "           00164V10    0.881295  0.028285  0.013624  0.170136  0.195055   \n",
       "           00287Y10    0.964928  0.094891  0.542234  0.095928  0.077839   \n",
       "           00766T10    0.127698  0.443431  0.349682  0.353846  0.808608   \n",
       "\n",
       "                          TTMSP  Cluster  \n",
       "Date       SecurityId                     \n",
       "2019-01-31 00090Q10    0.253597      7.0  \n",
       "           00163T10    0.941547      4.0  \n",
       "           00164V10    0.263489      7.0  \n",
       "           00287Y10    0.680755      3.0  \n",
       "           00766T10    0.018885      0.0  "
      ]
     },
     "execution_count": 490,
     "metadata": {},
     "output_type": "execute_result"
    }
   ],
   "source": [
    "# assign the cluster groupping back to the orginal table\n",
    "c_pred_df = pd.DataFrame({'Cluster':c_pred}, index = a.index)\n",
    "a['Cluster'] = c_pred_df['Cluster']\n",
    "a.head()"
   ]
  },
  {
   "cell_type": "markdown",
   "metadata": {},
   "source": [
    "### 7. Create Cluster Neutral Ranking"
   ]
  },
  {
   "cell_type": "code",
   "execution_count": 491,
   "metadata": {},
   "outputs": [
    {
     "data": {
      "text/html": [
       "<div>\n",
       "<style scoped>\n",
       "    .dataframe tbody tr th:only-of-type {\n",
       "        vertical-align: middle;\n",
       "    }\n",
       "\n",
       "    .dataframe tbody tr th {\n",
       "        vertical-align: top;\n",
       "    }\n",
       "\n",
       "    .dataframe thead th {\n",
       "        text-align: right;\n",
       "    }\n",
       "</style>\n",
       "<table border=\"1\" class=\"dataframe\">\n",
       "  <thead>\n",
       "    <tr style=\"text-align: right;\">\n",
       "      <th></th>\n",
       "      <th></th>\n",
       "      <th>BP</th>\n",
       "      <th>ChgShare</th>\n",
       "      <th>EBITDAP</th>\n",
       "      <th>FCFROI</th>\n",
       "      <th>ROIC</th>\n",
       "      <th>TTMSP</th>\n",
       "      <th>Cluster</th>\n",
       "      <th>BP_CRank</th>\n",
       "    </tr>\n",
       "    <tr>\n",
       "      <th>Date</th>\n",
       "      <th>SecurityId</th>\n",
       "      <th></th>\n",
       "      <th></th>\n",
       "      <th></th>\n",
       "      <th></th>\n",
       "      <th></th>\n",
       "      <th></th>\n",
       "      <th></th>\n",
       "      <th></th>\n",
       "    </tr>\n",
       "  </thead>\n",
       "  <tbody>\n",
       "    <tr>\n",
       "      <th rowspan=\"5\" valign=\"top\">2019-01-31</th>\n",
       "      <th>00090Q10</th>\n",
       "      <td>0.153777</td>\n",
       "      <td>0.801095</td>\n",
       "      <td>0.040872</td>\n",
       "      <td>0.380995</td>\n",
       "      <td>0.742674</td>\n",
       "      <td>0.253597</td>\n",
       "      <td>7.0</td>\n",
       "      <td>0.148515</td>\n",
       "    </tr>\n",
       "    <tr>\n",
       "      <th>00163T10</th>\n",
       "      <td>0.334532</td>\n",
       "      <td>0.958942</td>\n",
       "      <td>0.711172</td>\n",
       "      <td>0.918552</td>\n",
       "      <td>0.687729</td>\n",
       "      <td>0.941547</td>\n",
       "      <td>4.0</td>\n",
       "      <td>0.330357</td>\n",
       "    </tr>\n",
       "    <tr>\n",
       "      <th>00164V10</th>\n",
       "      <td>0.881295</td>\n",
       "      <td>0.028285</td>\n",
       "      <td>0.013624</td>\n",
       "      <td>0.170136</td>\n",
       "      <td>0.195055</td>\n",
       "      <td>0.263489</td>\n",
       "      <td>7.0</td>\n",
       "      <td>0.950495</td>\n",
       "    </tr>\n",
       "    <tr>\n",
       "      <th>00287Y10</th>\n",
       "      <td>0.964928</td>\n",
       "      <td>0.094891</td>\n",
       "      <td>0.542234</td>\n",
       "      <td>0.095928</td>\n",
       "      <td>0.077839</td>\n",
       "      <td>0.680755</td>\n",
       "      <td>3.0</td>\n",
       "      <td>0.916667</td>\n",
       "    </tr>\n",
       "    <tr>\n",
       "      <th>00766T10</th>\n",
       "      <td>0.127698</td>\n",
       "      <td>0.443431</td>\n",
       "      <td>0.349682</td>\n",
       "      <td>0.353846</td>\n",
       "      <td>0.808608</td>\n",
       "      <td>0.018885</td>\n",
       "      <td>0.0</td>\n",
       "      <td>0.215569</td>\n",
       "    </tr>\n",
       "  </tbody>\n",
       "</table>\n",
       "</div>"
      ],
      "text/plain": [
       "                             BP  ChgShare   EBITDAP    FCFROI      ROIC  \\\n",
       "Date       SecurityId                                                     \n",
       "2019-01-31 00090Q10    0.153777  0.801095  0.040872  0.380995  0.742674   \n",
       "           00163T10    0.334532  0.958942  0.711172  0.918552  0.687729   \n",
       "           00164V10    0.881295  0.028285  0.013624  0.170136  0.195055   \n",
       "           00287Y10    0.964928  0.094891  0.542234  0.095928  0.077839   \n",
       "           00766T10    0.127698  0.443431  0.349682  0.353846  0.808608   \n",
       "\n",
       "                          TTMSP  Cluster  BP_CRank  \n",
       "Date       SecurityId                               \n",
       "2019-01-31 00090Q10    0.253597      7.0  0.148515  \n",
       "           00163T10    0.941547      4.0  0.330357  \n",
       "           00164V10    0.263489      7.0  0.950495  \n",
       "           00287Y10    0.680755      3.0  0.916667  \n",
       "           00766T10    0.018885      0.0  0.215569  "
      ]
     },
     "execution_count": 491,
     "metadata": {},
     "output_type": "execute_result"
    }
   ],
   "source": [
    "a['BP_CRank'] = a.groupby([a.index.get_level_values(0),'Cluster']).BP.rank(pct=True)\n",
    "a.head()"
   ]
  },
  {
   "cell_type": "code",
   "execution_count": 492,
   "metadata": {},
   "outputs": [
    {
     "data": {
      "text/plain": [
       "(array([ 3.,  1., 10.,  8., 18., 25., 27., 30., 14., 12.]),\n",
       " array([0.03057554, 0.12607914, 0.22158273, 0.31708633, 0.41258993,\n",
       "        0.50809353, 0.60359712, 0.69910072, 0.79460432, 0.89010791,\n",
       "        0.98561151]),\n",
       " <a list of 10 Patch objects>)"
      ]
     },
     "execution_count": 492,
     "metadata": {},
     "output_type": "execute_result"
    },
    {
     "data": {
      "image/png": "[encoded data removed]",
      "text/plain": [
       "<Figure size 432x288 with 1 Axes>"
      ]
     },
     "metadata": {
      "needs_background": "light"
     },
     "output_type": "display_data"
    }
   ],
   "source": [
    "# some QA on the clustered rank\n",
    "# looks good, the crank is unifrom for any cluster, while prank was not\n",
    "test = a.loc[(a.index.get_level_values(0) == '2019-01-31 00:00:00') & (a.Cluster == 1),]['BP_CRank']\n",
    "test1 = a.loc[(a.index.get_level_values(0) == '2019-01-31 00:00:00') & (a.Cluster == 1),]['BP']\n",
    "plt.hist(test)\n",
    "plt.hist(test1)"
   ]
  },
  {
   "cell_type": "markdown",
   "metadata": {},
   "source": [
    "### 8. Getting security level return data and calc forward month return"
   ]
  },
  {
   "cell_type": "code",
   "execution_count": 413,
   "metadata": {},
   "outputs": [],
   "source": [
    "# set sql connection\n",
    "import pyodbc\n",
    "server = 'RIC1D2RSGSQL01' \n",
    "database = 'EquityResearch' \n",
    "conn = pyodbc.connect('DRIVER={ODBC Driver 17 for SQL Server};SERVER='+server+';DATABASE='+database+';Trusted_Connection=yes;')\n",
    "# cursor = conn.cursor()"
   ]
  },
  {
   "cell_type": "code",
   "execution_count": 433,
   "metadata": {},
   "outputs": [
    {
     "data": {
      "text/plain": [
       "\"IN ('2019-01-31 00:00:00', '2019-02-28 00:00:00', '2019-03-29 00:00:00', '2019-04-30 00:00:00', '2019-05-31 00:00:00', '2019-06-28 00:00:00', '2019-07-31 00:00:00', '2019-08-30 00:00:00', '2019-09-30 00:00:00', '2019-10-31 00:00:00', '2019-11-29 00:00:00', '2019-12-31 00:00:00', '2020-01-31 00:00:00', '2020-02-12 00:00:00')\""
      ]
     },
     "execution_count": 433,
     "metadata": {},
     "output_type": "execute_result"
    }
   ],
   "source": [
    "# type(a.index.get_level_values(0).unique().format())\n",
    "\n",
    "test = str(a.index.get_level_values(0).unique().format()).strip('[]')\n",
    "\n",
    "f'IN ({test})'"
   ]
  },
  {
   "cell_type": "code",
   "execution_count": 434,
   "metadata": {},
   "outputs": [
    {
     "data": {
      "text/plain": [
       "\"SELECT SecurityId, TReturn, Date, Flag\\n--select count(1)\\nFROM EquityResearch.dbo.ReturnsHistory rh\\n\\tINNER JOIN securitydb.dbo.SecurityMaster_Hist sm\\n\\t\\tON rh.IntegerId = sm.IntegerId\\n\\t\\tAND rh.Date BETWEEN sm.StartDate AND sm.EndDate\\n\\t\\t-- AND LEFT(rh.IntegerId,1) = '1' --for US names\\nAND rh.Date IN ('2019-01-31 00:00:00', '2019-02-28 00:00:00', '2019-03-29 00:00:00', '2019-04-30 00:00:00', '2019-05-31 00:00:00', '2019-06-28 00:00:00', '2019-07-31 00:00:00', '2019-08-30 00:00:00', '2019-09-30 00:00:00', '2019-10-31 00:00:00', '2019-11-29 00:00:00', '2019-12-31 00:00:00', '2020-01-31 00:00:00', '2020-02-12 00:00:00')\\nORDER BY rh.Date\\n\""
      ]
     },
     "execution_count": 434,
     "metadata": {},
     "output_type": "execute_result"
    }
   ],
   "source": [
    "DateList = str(a.index.get_level_values(0).unique().format()).strip('[]')\n",
    "\n",
    "query = f'''SELECT SecurityId, TReturn, Date, Flag\n",
    "--select count(1)\n",
    "FROM EquityResearch.dbo.ReturnsHistory rh\n",
    "\tINNER JOIN securitydb.dbo.SecurityMaster_Hist sm\n",
    "\t\tON rh.IntegerId = sm.IntegerId\n",
    "\t\tAND rh.Date BETWEEN sm.StartDate AND sm.EndDate\n",
    "\t\t-- AND LEFT(rh.IntegerId,1) = '1' --for US names\n",
    "AND rh.Date IN ({DateList})\n",
    "ORDER BY rh.Date\n",
    "'''\n",
    "\n",
    "query"
   ]
  },
  {
   "cell_type": "code",
   "execution_count": 435,
   "metadata": {},
   "outputs": [
    {
     "data": {
      "text/plain": [
       "(251041, 4)"
      ]
     },
     "execution_count": 435,
     "metadata": {},
     "output_type": "execute_result"
    }
   ],
   "source": [
    "ret = pd.read_sql_query(query,conn)\n",
    "ret.shape"
   ]
  },
  {
   "cell_type": "code",
   "execution_count": 437,
   "metadata": {
    "scrolled": true
   },
   "outputs": [
    {
     "data": {
      "text/html": [
       "<div>\n",
       "<style scoped>\n",
       "    .dataframe tbody tr th:only-of-type {\n",
       "        vertical-align: middle;\n",
       "    }\n",
       "\n",
       "    .dataframe tbody tr th {\n",
       "        vertical-align: top;\n",
       "    }\n",
       "\n",
       "    .dataframe thead th {\n",
       "        text-align: right;\n",
       "    }\n",
       "</style>\n",
       "<table border=\"1\" class=\"dataframe\">\n",
       "  <thead>\n",
       "    <tr style=\"text-align: right;\">\n",
       "      <th></th>\n",
       "      <th>SecurityId</th>\n",
       "      <th>TReturn</th>\n",
       "      <th>Date</th>\n",
       "      <th>Flag</th>\n",
       "    </tr>\n",
       "  </thead>\n",
       "  <tbody>\n",
       "    <tr>\n",
       "      <th>0</th>\n",
       "      <td>AINV</td>\n",
       "      <td>1.739588e+02</td>\n",
       "      <td>2019-01-31</td>\n",
       "      <td>0</td>\n",
       "    </tr>\n",
       "    <tr>\n",
       "      <th>1</th>\n",
       "      <td>APLL</td>\n",
       "      <td>1.750000e-01</td>\n",
       "      <td>2019-01-31</td>\n",
       "      <td>2</td>\n",
       "    </tr>\n",
       "    <tr>\n",
       "      <th>2</th>\n",
       "      <td>ISOG</td>\n",
       "      <td>5.000000e-04</td>\n",
       "      <td>2019-01-31</td>\n",
       "      <td>2</td>\n",
       "    </tr>\n",
       "    <tr>\n",
       "      <th>3</th>\n",
       "      <td>ADSX</td>\n",
       "      <td>1.848500e-11</td>\n",
       "      <td>2019-01-31</td>\n",
       "      <td>2</td>\n",
       "    </tr>\n",
       "    <tr>\n",
       "      <th>4</th>\n",
       "      <td>RGSH</td>\n",
       "      <td>1.363636e-04</td>\n",
       "      <td>2019-01-31</td>\n",
       "      <td>2</td>\n",
       "    </tr>\n",
       "  </tbody>\n",
       "</table>\n",
       "</div>"
      ],
      "text/plain": [
       "  SecurityId       TReturn       Date  Flag\n",
       "0       AINV  1.739588e+02 2019-01-31     0\n",
       "1       APLL  1.750000e-01 2019-01-31     2\n",
       "2       ISOG  5.000000e-04 2019-01-31     2\n",
       "3       ADSX  1.848500e-11 2019-01-31     2\n",
       "4       RGSH  1.363636e-04 2019-01-31     2"
      ]
     },
     "execution_count": 437,
     "metadata": {},
     "output_type": "execute_result"
    }
   ],
   "source": [
    "ret.head()"
   ]
  },
  {
   "cell_type": "code",
   "execution_count": 459,
   "metadata": {
    "scrolled": true
   },
   "outputs": [
    {
     "data": {
      "text/html": [
       "<div>\n",
       "<style scoped>\n",
       "    .dataframe tbody tr th:only-of-type {\n",
       "        vertical-align: middle;\n",
       "    }\n",
       "\n",
       "    .dataframe tbody tr th {\n",
       "        vertical-align: top;\n",
       "    }\n",
       "\n",
       "    .dataframe thead th {\n",
       "        text-align: right;\n",
       "    }\n",
       "</style>\n",
       "<table border=\"1\" class=\"dataframe\">\n",
       "  <thead>\n",
       "    <tr style=\"text-align: right;\">\n",
       "      <th></th>\n",
       "      <th>SecurityId</th>\n",
       "      <th>TReturn</th>\n",
       "      <th>Date</th>\n",
       "      <th>Flag</th>\n",
       "      <th>MRet</th>\n",
       "    </tr>\n",
       "  </thead>\n",
       "  <tbody>\n",
       "    <tr>\n",
       "      <th>0</th>\n",
       "      <td>00090Q10</td>\n",
       "      <td>59.291279</td>\n",
       "      <td>2019-01-31</td>\n",
       "      <td>0</td>\n",
       "      <td>10.803338</td>\n",
       "    </tr>\n",
       "    <tr>\n",
       "      <th>1</th>\n",
       "      <td>00090Q10</td>\n",
       "      <td>65.696716</td>\n",
       "      <td>2019-02-28</td>\n",
       "      <td>0</td>\n",
       "      <td>-20.125003</td>\n",
       "    </tr>\n",
       "    <tr>\n",
       "      <th>2</th>\n",
       "      <td>00090Q10</td>\n",
       "      <td>52.475250</td>\n",
       "      <td>2019-03-29</td>\n",
       "      <td>0</td>\n",
       "      <td>3.683508</td>\n",
       "    </tr>\n",
       "    <tr>\n",
       "      <th>3</th>\n",
       "      <td>00090Q10</td>\n",
       "      <td>54.408180</td>\n",
       "      <td>2019-04-30</td>\n",
       "      <td>0</td>\n",
       "      <td>-11.229138</td>\n",
       "    </tr>\n",
       "    <tr>\n",
       "      <th>4</th>\n",
       "      <td>00090Q10</td>\n",
       "      <td>48.298611</td>\n",
       "      <td>2019-05-31</td>\n",
       "      <td>0</td>\n",
       "      <td>5.212693</td>\n",
       "    </tr>\n",
       "    <tr>\n",
       "      <th>...</th>\n",
       "      <td>...</td>\n",
       "      <td>...</td>\n",
       "      <td>...</td>\n",
       "      <td>...</td>\n",
       "      <td>...</td>\n",
       "    </tr>\n",
       "    <tr>\n",
       "      <th>15014</th>\n",
       "      <td>ZMRH</td>\n",
       "      <td>494.035614</td>\n",
       "      <td>2019-09-30</td>\n",
       "      <td>0</td>\n",
       "      <td>0.699340</td>\n",
       "    </tr>\n",
       "    <tr>\n",
       "      <th>15015</th>\n",
       "      <td>ZMRH</td>\n",
       "      <td>497.490601</td>\n",
       "      <td>2019-10-31</td>\n",
       "      <td>0</td>\n",
       "      <td>5.100194</td>\n",
       "    </tr>\n",
       "    <tr>\n",
       "      <th>15016</th>\n",
       "      <td>ZMRH</td>\n",
       "      <td>522.863586</td>\n",
       "      <td>2019-11-29</td>\n",
       "      <td>0</td>\n",
       "      <td>3.193147</td>\n",
       "    </tr>\n",
       "    <tr>\n",
       "      <th>15017</th>\n",
       "      <td>ZMRH</td>\n",
       "      <td>539.559387</td>\n",
       "      <td>2019-12-31</td>\n",
       "      <td>0</td>\n",
       "      <td>-1.189212</td>\n",
       "    </tr>\n",
       "    <tr>\n",
       "      <th>15018</th>\n",
       "      <td>ZMRH</td>\n",
       "      <td>533.142883</td>\n",
       "      <td>2020-01-31</td>\n",
       "      <td>0</td>\n",
       "      <td>NaN</td>\n",
       "    </tr>\n",
       "  </tbody>\n",
       "</table>\n",
       "<p>15019 rows × 5 columns</p>\n",
       "</div>"
      ],
      "text/plain": [
       "      SecurityId     TReturn       Date  Flag       MRet\n",
       "0       00090Q10   59.291279 2019-01-31     0  10.803338\n",
       "1       00090Q10   65.696716 2019-02-28     0 -20.125003\n",
       "2       00090Q10   52.475250 2019-03-29     0   3.683508\n",
       "3       00090Q10   54.408180 2019-04-30     0 -11.229138\n",
       "4       00090Q10   48.298611 2019-05-31     0   5.212693\n",
       "...          ...         ...        ...   ...        ...\n",
       "15014       ZMRH  494.035614 2019-09-30     0   0.699340\n",
       "15015       ZMRH  497.490601 2019-10-31     0   5.100194\n",
       "15016       ZMRH  522.863586 2019-11-29     0   3.193147\n",
       "15017       ZMRH  539.559387 2019-12-31     0  -1.189212\n",
       "15018       ZMRH  533.142883 2020-01-31     0        NaN\n",
       "\n",
       "[15019 rows x 5 columns]"
      ]
     },
     "execution_count": 459,
     "metadata": {},
     "output_type": "execute_result"
    }
   ],
   "source": [
    "# join to unique security list to form a smaller subset\n",
    "universe = pd.DataFrame({'SecurityId':a.index.get_level_values(1).unique().format()})\n",
    "universe\n",
    "\n",
    "uni_ret = pd.merge(ret, universe, how='inner', on=['SecurityId']).sort_values(['SecurityId','Date'])\n",
    "uni_ret.reset_index(drop=True, inplace=True)\n",
    "\n",
    "uni_ret['MRet'] = uni_ret.groupby(['SecurityId']).TReturn.pct_change().shift(periods=-1)*100\n",
    "uni_ret"
   ]
  },
  {
   "cell_type": "code",
   "execution_count": 461,
   "metadata": {},
   "outputs": [
    {
     "data": {
      "text/html": [
       "<div>\n",
       "<style scoped>\n",
       "    .dataframe tbody tr th:only-of-type {\n",
       "        vertical-align: middle;\n",
       "    }\n",
       "\n",
       "    .dataframe tbody tr th {\n",
       "        vertical-align: top;\n",
       "    }\n",
       "\n",
       "    .dataframe thead th {\n",
       "        text-align: right;\n",
       "    }\n",
       "</style>\n",
       "<table border=\"1\" class=\"dataframe\">\n",
       "  <thead>\n",
       "    <tr style=\"text-align: right;\">\n",
       "      <th></th>\n",
       "      <th></th>\n",
       "      <th>TReturn</th>\n",
       "      <th>Flag</th>\n",
       "      <th>MRet</th>\n",
       "    </tr>\n",
       "    <tr>\n",
       "      <th>Date</th>\n",
       "      <th>SecurityId</th>\n",
       "      <th></th>\n",
       "      <th></th>\n",
       "      <th></th>\n",
       "    </tr>\n",
       "  </thead>\n",
       "  <tbody>\n",
       "    <tr>\n",
       "      <th>2019-01-31</th>\n",
       "      <th>00090Q10</th>\n",
       "      <td>59.291279</td>\n",
       "      <td>0</td>\n",
       "      <td>10.803338</td>\n",
       "    </tr>\n",
       "    <tr>\n",
       "      <th>2019-02-28</th>\n",
       "      <th>00090Q10</th>\n",
       "      <td>65.696716</td>\n",
       "      <td>0</td>\n",
       "      <td>-20.125003</td>\n",
       "    </tr>\n",
       "    <tr>\n",
       "      <th>2019-03-29</th>\n",
       "      <th>00090Q10</th>\n",
       "      <td>52.475250</td>\n",
       "      <td>0</td>\n",
       "      <td>3.683508</td>\n",
       "    </tr>\n",
       "    <tr>\n",
       "      <th>2019-04-30</th>\n",
       "      <th>00090Q10</th>\n",
       "      <td>54.408180</td>\n",
       "      <td>0</td>\n",
       "      <td>-11.229138</td>\n",
       "    </tr>\n",
       "    <tr>\n",
       "      <th>2019-05-31</th>\n",
       "      <th>00090Q10</th>\n",
       "      <td>48.298611</td>\n",
       "      <td>0</td>\n",
       "      <td>5.212693</td>\n",
       "    </tr>\n",
       "  </tbody>\n",
       "</table>\n",
       "</div>"
      ],
      "text/plain": [
       "                         TReturn  Flag       MRet\n",
       "Date       SecurityId                            \n",
       "2019-01-31 00090Q10    59.291279     0  10.803338\n",
       "2019-02-28 00090Q10    65.696716     0 -20.125003\n",
       "2019-03-29 00090Q10    52.475250     0   3.683508\n",
       "2019-04-30 00090Q10    54.408180     0 -11.229138\n",
       "2019-05-31 00090Q10    48.298611     0   5.212693"
      ]
     },
     "execution_count": 461,
     "metadata": {},
     "output_type": "execute_result"
    }
   ],
   "source": [
    "# uni_ret['Date'] = uni_ret['Date']+' 00:00:00'\n",
    "# uni_ret.head()\n",
    "ret_f = uni_ret.set_index(['Date','SecurityId'])\n",
    "ret_f.head()"
   ]
  },
  {
   "cell_type": "code",
   "execution_count": 494,
   "metadata": {},
   "outputs": [
    {
     "data": {
      "text/plain": [
       "MultiIndex([('2019-01-31', '00090Q10'),\n",
       "            ('2019-01-31', '00163T10'),\n",
       "            ('2019-01-31', '00164V10'),\n",
       "            ('2019-01-31', '00287Y10'),\n",
       "            ('2019-01-31', '00766T10'),\n",
       "            ('2019-01-31', '00847X10'),\n",
       "            ('2019-01-31', '00912X30'),\n",
       "            ('2019-01-31', '01527110'),\n",
       "            ('2019-01-31', '01858110'),\n",
       "            ('2019-01-31', '01973R10'),\n",
       "            ...\n",
       "            ('2020-02-12',      'YRI'),\n",
       "            ('2020-02-12',      'YUM'),\n",
       "            ('2020-02-12',   'YUMCWI'),\n",
       "            ('2020-02-12',        'Z'),\n",
       "            ('2020-02-12',      'ZAP'),\n",
       "            ('2020-02-12',     'ZAYO'),\n",
       "            ('2020-02-12',     'ZBRA'),\n",
       "            ('2020-02-12',    'ZCVVV'),\n",
       "            ('2020-02-12',     'ZION'),\n",
       "            ('2020-02-12',     'ZMRH')],\n",
       "           names=['Date', 'SecurityId'], length=15729)"
      ]
     },
     "execution_count": 494,
     "metadata": {},
     "output_type": "execute_result"
    }
   ],
   "source": [
    "a.index\n",
    "# ret_f.index"
   ]
  },
  {
   "cell_type": "code",
   "execution_count": 495,
   "metadata": {},
   "outputs": [
    {
     "data": {
      "text/plain": [
       "pandas.core.indexes.datetimes.DatetimeIndex"
      ]
     },
     "execution_count": 495,
     "metadata": {},
     "output_type": "execute_result"
    }
   ],
   "source": [
    "# making sure the index of date matches in two df\n",
    "# a.index.get_level_values(0) = \n",
    "# a.index.get_level_values(0).format()\n",
    "type(a.index.get_level_values(0)) #pandas.core.indexes.base.Index\n",
    "type(ret_f.index.get_level_values(0)) #pandas.core.indexes.datetimes.DatetimeIndex"
   ]
  },
  {
   "cell_type": "markdown",
   "metadata": {},
   "source": [
    "### 9. Aggregate return to monthly and calc decile spread time series"
   ]
  },
  {
   "cell_type": "code",
   "execution_count": 508,
   "metadata": {},
   "outputs": [],
   "source": [
    "fd = pd.merge(a, ret_f, how='inner', left_index=True, right_index=True)\n",
    "# a.join(ret_f)"
   ]
  },
  {
   "cell_type": "code",
   "execution_count": 509,
   "metadata": {},
   "outputs": [
    {
     "data": {
      "text/plain": [
       "Timestamp('2020-01-31 00:00:00')"
      ]
     },
     "execution_count": 509,
     "metadata": {},
     "output_type": "execute_result"
    }
   ],
   "source": [
    "fd.index.get_level_values(0).max()"
   ]
  },
  {
   "cell_type": "code",
   "execution_count": 573,
   "metadata": {},
   "outputs": [],
   "source": [
    "fd['Decile'] = np.ceil(fd.BP_CRank*10).astype(int) #.astype(str)"
   ]
  },
  {
   "cell_type": "code",
   "execution_count": 575,
   "metadata": {},
   "outputs": [
    {
     "data": {
      "text/plain": [
       "array([ 8,  9,  6,  5,  3, 10,  7,  1,  4,  2], dtype=int64)"
      ]
     },
     "execution_count": 575,
     "metadata": {},
     "output_type": "execute_result"
    }
   ],
   "source": [
    "fd.tail()\n",
    "fd[fd.Decile == 10]\n",
    "fd.Decile.unique()\n",
    "# fd.BP_CRank.describe()"
   ]
  },
  {
   "cell_type": "code",
   "execution_count": 591,
   "metadata": {},
   "outputs": [
    {
     "data": {
      "text/plain": [
       "pandas.core.frame.DataFrame"
      ]
     },
     "execution_count": 591,
     "metadata": {},
     "output_type": "execute_result"
    }
   ],
   "source": [
    "MthDcl = pd.DataFrame({'Ret':fd.groupby([fd.index.get_level_values(0),fd.Decile]).MRet.mean()}).reset_index()\n",
    "type(MthDcl)"
   ]
  },
  {
   "cell_type": "code",
   "execution_count": 592,
   "metadata": {
    "scrolled": false
   },
   "outputs": [],
   "source": [
    "MthDcl = MthDcl[MthDcl.Date != '2020-01-31']"
   ]
  },
  {
   "cell_type": "code",
   "execution_count": 593,
   "metadata": {
    "scrolled": true
   },
   "outputs": [],
   "source": [
    "MthDcl = MthDcl.pivot(index='Date', columns='Decile', values='Ret')"
   ]
  },
  {
   "cell_type": "code",
   "execution_count": 594,
   "metadata": {},
   "outputs": [],
   "source": [
    "MthDcl['Spread'] = MthDcl[1] - MthDcl[10]"
   ]
  },
  {
   "cell_type": "code",
   "execution_count": 595,
   "metadata": {},
   "outputs": [],
   "source": [
    "MthDcl['Cum1'] = np.cumprod(1+MthDcl[1]/100)\n",
    "MthDcl['Cum10'] = np.cumprod(1+MthDcl[10]/100)\n",
    "MthDcl['CumSprd'] = np.cumprod(1+MthDcl['Spread']/100)"
   ]
  },
  {
   "cell_type": "code",
   "execution_count": 596,
   "metadata": {},
   "outputs": [
    {
     "data": {
      "text/html": [
       "<div>\n",
       "<style scoped>\n",
       "    .dataframe tbody tr th:only-of-type {\n",
       "        vertical-align: middle;\n",
       "    }\n",
       "\n",
       "    .dataframe tbody tr th {\n",
       "        vertical-align: top;\n",
       "    }\n",
       "\n",
       "    .dataframe thead th {\n",
       "        text-align: right;\n",
       "    }\n",
       "</style>\n",
       "<table border=\"1\" class=\"dataframe\">\n",
       "  <thead>\n",
       "    <tr style=\"text-align: right;\">\n",
       "      <th>Decile</th>\n",
       "      <th>1</th>\n",
       "      <th>2</th>\n",
       "      <th>3</th>\n",
       "      <th>4</th>\n",
       "      <th>5</th>\n",
       "      <th>6</th>\n",
       "      <th>7</th>\n",
       "      <th>8</th>\n",
       "      <th>9</th>\n",
       "      <th>10</th>\n",
       "      <th>Spread</th>\n",
       "      <th>Cum1</th>\n",
       "      <th>Cum10</th>\n",
       "      <th>CumSprd</th>\n",
       "    </tr>\n",
       "    <tr>\n",
       "      <th>Date</th>\n",
       "      <th></th>\n",
       "      <th></th>\n",
       "      <th></th>\n",
       "      <th></th>\n",
       "      <th></th>\n",
       "      <th></th>\n",
       "      <th></th>\n",
       "      <th></th>\n",
       "      <th></th>\n",
       "      <th></th>\n",
       "      <th></th>\n",
       "      <th></th>\n",
       "      <th></th>\n",
       "      <th></th>\n",
       "    </tr>\n",
       "  </thead>\n",
       "  <tbody>\n",
       "    <tr>\n",
       "      <th>2019-01-31</th>\n",
       "      <td>2.768757</td>\n",
       "      <td>3.902687</td>\n",
       "      <td>2.567097</td>\n",
       "      <td>2.987958</td>\n",
       "      <td>4.288698</td>\n",
       "      <td>4.437105</td>\n",
       "      <td>5.736281</td>\n",
       "      <td>3.270351</td>\n",
       "      <td>4.953551</td>\n",
       "      <td>5.180288</td>\n",
       "      <td>-2.411531</td>\n",
       "      <td>1.027688</td>\n",
       "      <td>1.051803</td>\n",
       "      <td>0.975885</td>\n",
       "    </tr>\n",
       "    <tr>\n",
       "      <th>2019-02-28</th>\n",
       "      <td>-1.485247</td>\n",
       "      <td>-0.650457</td>\n",
       "      <td>-0.322571</td>\n",
       "      <td>1.292824</td>\n",
       "      <td>-0.000300</td>\n",
       "      <td>1.035529</td>\n",
       "      <td>1.408529</td>\n",
       "      <td>0.885563</td>\n",
       "      <td>1.896843</td>\n",
       "      <td>-0.402181</td>\n",
       "      <td>-1.083066</td>\n",
       "      <td>1.012424</td>\n",
       "      <td>1.047573</td>\n",
       "      <td>0.965315</td>\n",
       "    </tr>\n",
       "    <tr>\n",
       "      <th>2019-03-29</th>\n",
       "      <td>5.637543</td>\n",
       "      <td>4.615741</td>\n",
       "      <td>3.023105</td>\n",
       "      <td>4.188051</td>\n",
       "      <td>3.541177</td>\n",
       "      <td>3.072804</td>\n",
       "      <td>1.451653</td>\n",
       "      <td>3.112757</td>\n",
       "      <td>5.136187</td>\n",
       "      <td>2.215175</td>\n",
       "      <td>3.422368</td>\n",
       "      <td>1.069500</td>\n",
       "      <td>1.070778</td>\n",
       "      <td>0.998352</td>\n",
       "    </tr>\n",
       "    <tr>\n",
       "      <th>2019-04-30</th>\n",
       "      <td>-9.377267</td>\n",
       "      <td>-6.173663</td>\n",
       "      <td>-7.132390</td>\n",
       "      <td>-6.085131</td>\n",
       "      <td>-6.812377</td>\n",
       "      <td>-7.431905</td>\n",
       "      <td>-6.944194</td>\n",
       "      <td>-6.481476</td>\n",
       "      <td>-5.455082</td>\n",
       "      <td>-7.413523</td>\n",
       "      <td>-1.963744</td>\n",
       "      <td>0.969210</td>\n",
       "      <td>0.991396</td>\n",
       "      <td>0.978747</td>\n",
       "    </tr>\n",
       "    <tr>\n",
       "      <th>2019-05-31</th>\n",
       "      <td>7.645286</td>\n",
       "      <td>6.995101</td>\n",
       "      <td>7.345949</td>\n",
       "      <td>6.789303</td>\n",
       "      <td>7.071840</td>\n",
       "      <td>5.800834</td>\n",
       "      <td>8.097800</td>\n",
       "      <td>8.054352</td>\n",
       "      <td>7.443208</td>\n",
       "      <td>5.245691</td>\n",
       "      <td>2.399595</td>\n",
       "      <td>1.043309</td>\n",
       "      <td>1.043401</td>\n",
       "      <td>1.002233</td>\n",
       "    </tr>\n",
       "    <tr>\n",
       "      <th>2019-06-28</th>\n",
       "      <td>0.180264</td>\n",
       "      <td>1.450649</td>\n",
       "      <td>1.812593</td>\n",
       "      <td>1.281155</td>\n",
       "      <td>-0.255052</td>\n",
       "      <td>-0.178701</td>\n",
       "      <td>1.408392</td>\n",
       "      <td>1.260167</td>\n",
       "      <td>1.530239</td>\n",
       "      <td>2.127894</td>\n",
       "      <td>-1.947630</td>\n",
       "      <td>1.045189</td>\n",
       "      <td>1.065604</td>\n",
       "      <td>0.982713</td>\n",
       "    </tr>\n",
       "    <tr>\n",
       "      <th>2019-07-31</th>\n",
       "      <td>-7.339583</td>\n",
       "      <td>-5.336349</td>\n",
       "      <td>-4.823948</td>\n",
       "      <td>-2.692392</td>\n",
       "      <td>-3.711210</td>\n",
       "      <td>-4.745195</td>\n",
       "      <td>-2.672863</td>\n",
       "      <td>-3.054722</td>\n",
       "      <td>-2.514807</td>\n",
       "      <td>-2.423626</td>\n",
       "      <td>-4.915957</td>\n",
       "      <td>0.968477</td>\n",
       "      <td>1.039778</td>\n",
       "      <td>0.934403</td>\n",
       "    </tr>\n",
       "    <tr>\n",
       "      <th>2019-08-30</th>\n",
       "      <td>5.929362</td>\n",
       "      <td>4.806408</td>\n",
       "      <td>3.324868</td>\n",
       "      <td>3.229491</td>\n",
       "      <td>2.328169</td>\n",
       "      <td>2.598277</td>\n",
       "      <td>1.102454</td>\n",
       "      <td>1.686508</td>\n",
       "      <td>0.195494</td>\n",
       "      <td>-0.845617</td>\n",
       "      <td>6.774980</td>\n",
       "      <td>1.025901</td>\n",
       "      <td>1.030985</td>\n",
       "      <td>0.997709</td>\n",
       "    </tr>\n",
       "    <tr>\n",
       "      <th>2019-09-30</th>\n",
       "      <td>-2.205318</td>\n",
       "      <td>0.863097</td>\n",
       "      <td>0.700145</td>\n",
       "      <td>0.751506</td>\n",
       "      <td>0.794047</td>\n",
       "      <td>1.113585</td>\n",
       "      <td>0.389060</td>\n",
       "      <td>2.021302</td>\n",
       "      <td>1.982794</td>\n",
       "      <td>0.272054</td>\n",
       "      <td>-2.477372</td>\n",
       "      <td>1.003277</td>\n",
       "      <td>1.033790</td>\n",
       "      <td>0.972992</td>\n",
       "    </tr>\n",
       "    <tr>\n",
       "      <th>2019-10-31</th>\n",
       "      <td>2.907692</td>\n",
       "      <td>3.752624</td>\n",
       "      <td>4.100590</td>\n",
       "      <td>4.104753</td>\n",
       "      <td>1.927232</td>\n",
       "      <td>3.847192</td>\n",
       "      <td>3.895036</td>\n",
       "      <td>3.240296</td>\n",
       "      <td>4.224672</td>\n",
       "      <td>3.509371</td>\n",
       "      <td>-0.601679</td>\n",
       "      <td>1.032449</td>\n",
       "      <td>1.070070</td>\n",
       "      <td>0.967138</td>\n",
       "    </tr>\n",
       "    <tr>\n",
       "      <th>2019-11-29</th>\n",
       "      <td>8.672471</td>\n",
       "      <td>3.362836</td>\n",
       "      <td>5.438498</td>\n",
       "      <td>2.544446</td>\n",
       "      <td>2.378067</td>\n",
       "      <td>2.493363</td>\n",
       "      <td>2.044490</td>\n",
       "      <td>1.966579</td>\n",
       "      <td>2.120118</td>\n",
       "      <td>-0.170135</td>\n",
       "      <td>8.842606</td>\n",
       "      <td>1.121988</td>\n",
       "      <td>1.068249</td>\n",
       "      <td>1.052658</td>\n",
       "    </tr>\n",
       "    <tr>\n",
       "      <th>2019-12-31</th>\n",
       "      <td>-6.063062</td>\n",
       "      <td>-2.870910</td>\n",
       "      <td>-2.398258</td>\n",
       "      <td>-3.280118</td>\n",
       "      <td>-0.877209</td>\n",
       "      <td>-2.681156</td>\n",
       "      <td>-0.752186</td>\n",
       "      <td>-0.552350</td>\n",
       "      <td>0.219547</td>\n",
       "      <td>2.885715</td>\n",
       "      <td>-8.948777</td>\n",
       "      <td>1.053961</td>\n",
       "      <td>1.099076</td>\n",
       "      <td>0.958458</td>\n",
       "    </tr>\n",
       "  </tbody>\n",
       "</table>\n",
       "</div>"
      ],
      "text/plain": [
       "Decile             1         2         3         4         5         6  \\\n",
       "Date                                                                     \n",
       "2019-01-31  2.768757  3.902687  2.567097  2.987958  4.288698  4.437105   \n",
       "2019-02-28 -1.485247 -0.650457 -0.322571  1.292824 -0.000300  1.035529   \n",
       "2019-03-29  5.637543  4.615741  3.023105  4.188051  3.541177  3.072804   \n",
       "2019-04-30 -9.377267 -6.173663 -7.132390 -6.085131 -6.812377 -7.431905   \n",
       "2019-05-31  7.645286  6.995101  7.345949  6.789303  7.071840  5.800834   \n",
       "2019-06-28  0.180264  1.450649  1.812593  1.281155 -0.255052 -0.178701   \n",
       "2019-07-31 -7.339583 -5.336349 -4.823948 -2.692392 -3.711210 -4.745195   \n",
       "2019-08-30  5.929362  4.806408  3.324868  3.229491  2.328169  2.598277   \n",
       "2019-09-30 -2.205318  0.863097  0.700145  0.751506  0.794047  1.113585   \n",
       "2019-10-31  2.907692  3.752624  4.100590  4.104753  1.927232  3.847192   \n",
       "2019-11-29  8.672471  3.362836  5.438498  2.544446  2.378067  2.493363   \n",
       "2019-12-31 -6.063062 -2.870910 -2.398258 -3.280118 -0.877209 -2.681156   \n",
       "\n",
       "Decile             7         8         9        10    Spread      Cum1  \\\n",
       "Date                                                                     \n",
       "2019-01-31  5.736281  3.270351  4.953551  5.180288 -2.411531  1.027688   \n",
       "2019-02-28  1.408529  0.885563  1.896843 -0.402181 -1.083066  1.012424   \n",
       "2019-03-29  1.451653  3.112757  5.136187  2.215175  3.422368  1.069500   \n",
       "2019-04-30 -6.944194 -6.481476 -5.455082 -7.413523 -1.963744  0.969210   \n",
       "2019-05-31  8.097800  8.054352  7.443208  5.245691  2.399595  1.043309   \n",
       "2019-06-28  1.408392  1.260167  1.530239  2.127894 -1.947630  1.045189   \n",
       "2019-07-31 -2.672863 -3.054722 -2.514807 -2.423626 -4.915957  0.968477   \n",
       "2019-08-30  1.102454  1.686508  0.195494 -0.845617  6.774980  1.025901   \n",
       "2019-09-30  0.389060  2.021302  1.982794  0.272054 -2.477372  1.003277   \n",
       "2019-10-31  3.895036  3.240296  4.224672  3.509371 -0.601679  1.032449   \n",
       "2019-11-29  2.044490  1.966579  2.120118 -0.170135  8.842606  1.121988   \n",
       "2019-12-31 -0.752186 -0.552350  0.219547  2.885715 -8.948777  1.053961   \n",
       "\n",
       "Decile         Cum10   CumSprd  \n",
       "Date                            \n",
       "2019-01-31  1.051803  0.975885  \n",
       "2019-02-28  1.047573  0.965315  \n",
       "2019-03-29  1.070778  0.998352  \n",
       "2019-04-30  0.991396  0.978747  \n",
       "2019-05-31  1.043401  1.002233  \n",
       "2019-06-28  1.065604  0.982713  \n",
       "2019-07-31  1.039778  0.934403  \n",
       "2019-08-30  1.030985  0.997709  \n",
       "2019-09-30  1.033790  0.972992  \n",
       "2019-10-31  1.070070  0.967138  \n",
       "2019-11-29  1.068249  1.052658  \n",
       "2019-12-31  1.099076  0.958458  "
      ]
     },
     "execution_count": 596,
     "metadata": {},
     "output_type": "execute_result"
    }
   ],
   "source": [
    "MthDcl"
   ]
  },
  {
   "cell_type": "code",
   "execution_count": 597,
   "metadata": {},
   "outputs": [],
   "source": [
    "MthDcl.to_csv(path.join(sc_path,'clusterOutput.txt'), sep='\\t')"
   ]
  },
  {
   "cell_type": "code",
   "execution_count": null,
   "metadata": {},
   "outputs": [],
   "source": []
  }
 ],
 "metadata": {
  "kernelspec": {
   "display_name": "Python 3",
   "language": "python",
   "name": "python3"
  },
  "language_info": {
   "codemirror_mode": {
    "name": "ipython",
    "version": 3
   },
   "file_extension": ".py",
   "mimetype": "text/x-python",
   "name": "python",
   "nbconvert_exporter": "python",
   "pygments_lexer": "ipython3",
   "version": "3.6.5"
  }
 },
 "nbformat": 4,
 "nbformat_minor": 2
}
