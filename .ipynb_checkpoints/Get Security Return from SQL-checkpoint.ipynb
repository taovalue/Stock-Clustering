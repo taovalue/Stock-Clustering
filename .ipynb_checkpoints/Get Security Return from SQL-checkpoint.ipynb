{
 "cells": [
  {
   "cell_type": "code",
   "execution_count": 1,
   "metadata": {},
   "outputs": [],
   "source": [
    "# set sql connection\n",
    "import pyodbc\n",
    "server = 'RIC1D2RSGSQL01' \n",
    "database = 'EquityResearch' \n",
    "conn = pyodbc.connect('DRIVER={ODBC Driver 17 for SQL Server};SERVER='+server+';DATABASE='+database+';Trusted_Connection=yes;')"
   ]
  },
  {
   "cell_type": "code",
   "execution_count": 5,
   "metadata": {},
   "outputs": [],
   "source": [
    "import pandas as pd"
   ]
  },
  {
   "cell_type": "code",
   "execution_count": 16,
   "metadata": {},
   "outputs": [
    {
     "data": {
      "text/plain": [
       "\"SELECT SecurityId, TReturn, Date, Flag\\n--select count(1)\\nFROM EquityResearch.dbo.ReturnsHistory rh\\n\\tINNER JOIN securitydb.dbo.SecurityMaster_Hist sm\\n\\t\\tON rh.IntegerId = sm.IntegerId\\n\\t\\tAND rh.Date BETWEEN sm.StartDate AND sm.EndDate\\n\\t\\t-- AND LEFT(rh.IntegerId,1) = '1' --for US names\\nAND rh.Date IN ('2019-01-31', '2019-02-28', '2019-03-29')\\nAND sm.Ticker IN ('AMZN', 'AAPL')\\nORDER BY rh.Date\\n\""
      ]
     },
     "execution_count": 16,
     "metadata": {},
     "output_type": "execute_result"
    }
   ],
   "source": [
    "# define your parameters for SQL query\n",
    "# Note to use strip [] from a list variable, which will give back comma delimitered & single quoted, exactly what SQL needed\n",
    "# Dates in a str (feel free to change the query for dates selection, it can be daily between a & b, or in a list of dates)\n",
    "# Security in a str\n",
    "\n",
    "\n",
    "Dates = ['2019-01-31','2019-02-28','2019-03-29']\n",
    "Security = ['AMZN','AAPL'] \n",
    "\n",
    "DateList = str(Dates).strip('[]') \n",
    "SecList = str(Security).strip('[]')\n",
    "\n",
    "query = f'''SELECT SecurityId, TReturn, Date, Flag\n",
    "--select count(1)\n",
    "FROM EquityResearch.dbo.ReturnsHistory rh\n",
    "\tINNER JOIN securitydb.dbo.SecurityMaster_Hist sm\n",
    "\t\tON rh.IntegerId = sm.IntegerId\n",
    "\t\tAND rh.Date BETWEEN sm.StartDate AND sm.EndDate\n",
    "\t\t-- AND LEFT(rh.IntegerId,1) = '1' --for US names\n",
    "AND rh.Date IN ({DateList})\n",
    "AND sm.Ticker IN ({SecList})\n",
    "ORDER BY rh.Date\n",
    "'''\n",
    "\n",
    "query\n"
   ]
  },
  {
   "cell_type": "code",
   "execution_count": 17,
   "metadata": {},
   "outputs": [
    {
     "data": {
      "text/html": [
       "<div>\n",
       "<style scoped>\n",
       "    .dataframe tbody tr th:only-of-type {\n",
       "        vertical-align: middle;\n",
       "    }\n",
       "\n",
       "    .dataframe tbody tr th {\n",
       "        vertical-align: top;\n",
       "    }\n",
       "\n",
       "    .dataframe thead th {\n",
       "        text-align: right;\n",
       "    }\n",
       "</style>\n",
       "<table border=\"1\" class=\"dataframe\">\n",
       "  <thead>\n",
       "    <tr style=\"text-align: right;\">\n",
       "      <th></th>\n",
       "      <th>SecurityId</th>\n",
       "      <th>TReturn</th>\n",
       "      <th>Date</th>\n",
       "      <th>Flag</th>\n",
       "    </tr>\n",
       "  </thead>\n",
       "  <tbody>\n",
       "    <tr>\n",
       "      <th>0</th>\n",
       "      <td>AMZN</td>\n",
       "      <td>87764.937500</td>\n",
       "      <td>2019-01-31</td>\n",
       "      <td>0</td>\n",
       "    </tr>\n",
       "    <tr>\n",
       "      <th>1</th>\n",
       "      <td>AAPL</td>\n",
       "      <td>40222.238281</td>\n",
       "      <td>2019-01-31</td>\n",
       "      <td>0</td>\n",
       "    </tr>\n",
       "    <tr>\n",
       "      <th>2</th>\n",
       "      <td>AAPL</td>\n",
       "      <td>42023.039062</td>\n",
       "      <td>2019-02-28</td>\n",
       "      <td>0</td>\n",
       "    </tr>\n",
       "    <tr>\n",
       "      <th>3</th>\n",
       "      <td>AMZN</td>\n",
       "      <td>83736.000000</td>\n",
       "      <td>2019-02-28</td>\n",
       "      <td>0</td>\n",
       "    </tr>\n",
       "    <tr>\n",
       "      <th>4</th>\n",
       "      <td>AMZN</td>\n",
       "      <td>90931.906250</td>\n",
       "      <td>2019-03-29</td>\n",
       "      <td>0</td>\n",
       "    </tr>\n",
       "    <tr>\n",
       "      <th>5</th>\n",
       "      <td>AAPL</td>\n",
       "      <td>46100.359375</td>\n",
       "      <td>2019-03-29</td>\n",
       "      <td>0</td>\n",
       "    </tr>\n",
       "  </tbody>\n",
       "</table>\n",
       "</div>"
      ],
      "text/plain": [
       "  SecurityId       TReturn       Date  Flag\n",
       "0       AMZN  87764.937500 2019-01-31     0\n",
       "1       AAPL  40222.238281 2019-01-31     0\n",
       "2       AAPL  42023.039062 2019-02-28     0\n",
       "3       AMZN  83736.000000 2019-02-28     0\n",
       "4       AMZN  90931.906250 2019-03-29     0\n",
       "5       AAPL  46100.359375 2019-03-29     0"
      ]
     },
     "execution_count": 17,
     "metadata": {},
     "output_type": "execute_result"
    }
   ],
   "source": [
    "# running the query to get the data into a variable in Python\n",
    "ret = pd.read_sql_query(query,conn)\n",
    "ret"
   ]
  },
  {
   "cell_type": "code",
   "execution_count": 25,
   "metadata": {},
   "outputs": [],
   "source": [
    "# reorder df by Date (REQUIRED for using pct_change function)\n",
    "ret.sort_values(by = ['SecurityId', 'Date'], inplace=True)"
   ]
  },
  {
   "cell_type": "code",
   "execution_count": 27,
   "metadata": {},
   "outputs": [],
   "source": [
    "# calculate forward one month return\n",
    "ret['MthRet'] = ret.groupby(['SecurityId']).TReturn.pct_change().shift(periods=-1)*100"
   ]
  },
  {
   "cell_type": "code",
   "execution_count": 28,
   "metadata": {},
   "outputs": [
    {
     "data": {
      "text/html": [
       "<div>\n",
       "<style scoped>\n",
       "    .dataframe tbody tr th:only-of-type {\n",
       "        vertical-align: middle;\n",
       "    }\n",
       "\n",
       "    .dataframe tbody tr th {\n",
       "        vertical-align: top;\n",
       "    }\n",
       "\n",
       "    .dataframe thead th {\n",
       "        text-align: right;\n",
       "    }\n",
       "</style>\n",
       "<table border=\"1\" class=\"dataframe\">\n",
       "  <thead>\n",
       "    <tr style=\"text-align: right;\">\n",
       "      <th></th>\n",
       "      <th>SecurityId</th>\n",
       "      <th>TReturn</th>\n",
       "      <th>Date</th>\n",
       "      <th>Flag</th>\n",
       "      <th>MthRet</th>\n",
       "    </tr>\n",
       "  </thead>\n",
       "  <tbody>\n",
       "    <tr>\n",
       "      <th>1</th>\n",
       "      <td>AAPL</td>\n",
       "      <td>40222.238281</td>\n",
       "      <td>2019-01-31</td>\n",
       "      <td>0</td>\n",
       "      <td>4.477127</td>\n",
       "    </tr>\n",
       "    <tr>\n",
       "      <th>2</th>\n",
       "      <td>AAPL</td>\n",
       "      <td>42023.039062</td>\n",
       "      <td>2019-02-28</td>\n",
       "      <td>0</td>\n",
       "      <td>9.702583</td>\n",
       "    </tr>\n",
       "    <tr>\n",
       "      <th>5</th>\n",
       "      <td>AAPL</td>\n",
       "      <td>46100.359375</td>\n",
       "      <td>2019-03-29</td>\n",
       "      <td>0</td>\n",
       "      <td>NaN</td>\n",
       "    </tr>\n",
       "    <tr>\n",
       "      <th>0</th>\n",
       "      <td>AMZN</td>\n",
       "      <td>87764.937500</td>\n",
       "      <td>2019-01-31</td>\n",
       "      <td>0</td>\n",
       "      <td>-4.590600</td>\n",
       "    </tr>\n",
       "    <tr>\n",
       "      <th>3</th>\n",
       "      <td>AMZN</td>\n",
       "      <td>83736.000000</td>\n",
       "      <td>2019-02-28</td>\n",
       "      <td>0</td>\n",
       "      <td>8.593563</td>\n",
       "    </tr>\n",
       "    <tr>\n",
       "      <th>4</th>\n",
       "      <td>AMZN</td>\n",
       "      <td>90931.906250</td>\n",
       "      <td>2019-03-29</td>\n",
       "      <td>0</td>\n",
       "      <td>NaN</td>\n",
       "    </tr>\n",
       "  </tbody>\n",
       "</table>\n",
       "</div>"
      ],
      "text/plain": [
       "  SecurityId       TReturn       Date  Flag    MthRet\n",
       "1       AAPL  40222.238281 2019-01-31     0  4.477127\n",
       "2       AAPL  42023.039062 2019-02-28     0  9.702583\n",
       "5       AAPL  46100.359375 2019-03-29     0       NaN\n",
       "0       AMZN  87764.937500 2019-01-31     0 -4.590600\n",
       "3       AMZN  83736.000000 2019-02-28     0  8.593563\n",
       "4       AMZN  90931.906250 2019-03-29     0       NaN"
      ]
     },
     "execution_count": 28,
     "metadata": {},
     "output_type": "execute_result"
    }
   ],
   "source": [
    "ret"
   ]
  },
  {
   "cell_type": "code",
   "execution_count": null,
   "metadata": {},
   "outputs": [],
   "source": []
  }
 ],
 "metadata": {
  "kernelspec": {
   "display_name": "Python 3",
   "language": "python",
   "name": "python3"
  },
  "language_info": {
   "codemirror_mode": {
    "name": "ipython",
    "version": 3
   },
   "file_extension": ".py",
   "mimetype": "text/x-python",
   "name": "python",
   "nbconvert_exporter": "python",
   "pygments_lexer": "ipython3",
   "version": "3.6.5"
  }
 },
 "nbformat": 4,
 "nbformat_minor": 2
}
